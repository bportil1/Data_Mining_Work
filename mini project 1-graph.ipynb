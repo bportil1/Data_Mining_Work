{
 "cells": [
  {
   "cell_type": "code",
   "execution_count": 1,
   "metadata": {
    "slideshow": null,
    "ExecuteTime": {
     "end_time": "2024-09-11T01:43:26.768079500Z",
     "start_time": "2024-09-11T01:43:26.764070900Z"
    }
   },
   "outputs": [],
   "source": [
    "import seaborn as sns\n",
    "sns.set()     "
   ]
  },
  {
   "cell_type": "markdown",
   "metadata": {
    "slideshow": null
   },
   "source": [
    "# The New York Social Graph\n"
   ]
  },
  {
   "cell_type": "markdown",
   "metadata": {},
   "source": [
    "[New York Social Diary](https://www.newyorksocialdiary.com/) provides a\n",
    "fascinating lens onto New York's socially well-to-do.  The data forms a natural social graph for New York's social elite.  Take a look at this page of a recent [To Love Unconditionally](https://www.newyorksocialdiary.com/to-love-unconditionally/). \n",
    "\n",
    "You will notice the photos have carefully annotated captions labeling those that appear in the photos.  We can think of this as implicitly implying a social graph: there is a connection between two individuals if they appear in a picture together.\n",
    "\n",
    "For this project, we will assemble the social graph from photo captions for parties.  Using this graph, we can make guesses at the most popular socialites, the most influential people, and the most tightly coupled pairs.\n",
    "\n",
    "We will attack the project in three phases:\n",
    "1. Get a list of all the photo pages to be analyzed. \n",
    "2. Get all captions in each party, Parse all of the captions and extract guests' names.\n",
    "3. Assemble the graph, analyze the graph and answer the questions"
   ]
  },
  {
   "cell_type": "markdown",
   "metadata": {
    "slideshow": null
   },
   "source": [
    "## Phase One\n"
   ]
  },
  {
   "cell_type": "markdown",
   "metadata": {
    "slideshow": null
   },
   "source": [
    "The first step is to crawl the data.  We want photos from parties on or before December 1st, 2014.  Go to the [Party Pictures Archive](https://web.archive.org/web/20150913224145/http://www.newyorksocialdiary.com/party-pictures) to see a list of (party) pages.  We want to get the url for each party page, along with its date.\n",
    "\n",
    "Here are some packages that you may find useful.  You are welcome to use others, if you prefer."
   ]
  },
  {
   "cell_type": "code",
   "execution_count": 2,
   "metadata": {
    "slideshow": null,
    "ExecuteTime": {
     "end_time": "2024-09-11T01:43:34.832663200Z",
     "start_time": "2024-09-11T01:43:34.516378800Z"
    }
   },
   "outputs": [],
   "source": [
    "import requests\n",
    "import dill\n",
    "from bs4 import BeautifulSoup\n",
    "from datetime import datetime"
   ]
  },
  {
   "cell_type": "markdown",
   "metadata": {
    "slideshow": null
   },
   "source": [
    "We recommend using Python [Requests](http://docs.python-requests.org/en/master/) to download the HTML pages, and [BeautifulSoup](https://www.crummy.com/software/BeautifulSoup/) to process the HTML.  Let's start by getting the [first page](https://web.archive.org/web/20150913224145/http://www.newyorksocialdiary.com/party-pictures)."
   ]
  },
  {
   "cell_type": "code",
   "execution_count": 18,
   "metadata": {
    "slideshow": null,
    "ExecuteTime": {
     "end_time": "2024-09-11T02:01:54.474670900Z",
     "start_time": "2024-09-11T02:01:53.606797900Z"
    }
   },
   "outputs": [
    {
     "name": "stdout",
     "output_type": "stream",
     "text": [
      "<!DOCTYPE html>\n",
      "  <!--[if IEMobile 7]><html class=\"no-js ie iem7\" lang=\"en\" dir=\"ltr\"><![endif]-->\n",
      "  <!--[if lte IE 6]><html class=\"no-js ie lt-ie9 lt-ie8 lt-ie7\" lang=\"en\" dir=\"ltr\"><![endif]-->\n",
      "  <!--[if (IE 7)&(!IEMobile)]><html class=\"no-js ie lt-ie9 lt-ie8\" lang=\"en\" dir=\"ltr\"><![endif]-->\n",
      "  <!--[if IE 8]><html class=\"no-js ie lt-ie9\" lang=\"en\" dir=\"ltr\"><![endif]-->\n",
      "  <!--[if (gte IE 9)|(gt IEMobile 7)]><html class=\"no-js ie\" lang=\"en\" dir=\"ltr\" prefix=\"fb: http://ogp.me/ns/fb# og: http://ogp.me/ns# article: http://ogp.me/ns/article# book: http://ogp.me/ns/book# profile: http://ogp.me/ns/profile# video: http://ogp.me/ns/video# product: http://ogp.me/ns/product#\"><![endif]-->\n",
      "  <!--[if !IE]><!--><html class=\"no-js\" lang=\"en\" dir=\"ltr\" prefix=\"fb: http://ogp.me/ns/fb# og: http://ogp.me/ns# article: http://ogp.me/ns/article# book: http://ogp.me/ns/book# profile: http://ogp.me/ns/profile# video: http://ogp.me/ns/video# product: http://ogp.me/ns/product#\"><!--<![endif]-->\n",
      "<head><script type=\"text/javascript\" src=\"https://web-static.archive.org/_static/js/bundle-playback.js?v=2mqEsuX0\" charset=\"utf-8\"></script>\n",
      "<script type=\"text/javascript\" src=\"https://web-static.archive.org/_static/js/wombat.js?v=txqj7nKC\" charset=\"utf-8\"></script>\n",
      "<script>window.RufflePlayer=window.RufflePlayer||{};window.RufflePlayer.config={\"autoplay\":\"on\",\"unmuteOverlay\":\"hidden\"};</script>\n",
      "<script type=\"text/javascript\" src=\"https://web-static.archive.org/_static/js/ruffle/ruffle.js\"></script>\n",
      "<script type=\"text/javascript\">\n",
      "    __wm.init(\"https://web.archive.org/web\");\n",
      "  __wm.wombat(\"http://www.newyorksocialdiary.com:80/party-pictures\",\"20150913224145\",\"https://web.archive.org/\",\"web\",\"https://web-static.archive.org/_static/\",\n",
      "\t      \"1442184105\");\n",
      "</script>\n",
      "<link rel=\"stylesheet\" type=\"text/css\" href=\"https://web-static.archive.org/_static/css/banner-styles.css?v=S1zqJCYt\" />\n",
      "<link rel=\"stylesheet\" type=\"text/css\" href=\"https://web-static.archive.org/_static/css/iconochive.css?v=qtvMKcIJ\" />\n",
      "<!-- End Wayback Rewrite JS Include -->\n",
      "\n",
      "  <title>Party Pictures Archive | New York Social Diary</title>\n",
      "  <meta charset=\"utf-8\"/>\n",
      "<link rel=\"shortcut icon\" href=\"https://web.archive.org/web/20150913224145im_/http://www.newyorksocialdiary.com/sites/all/themes/omega_nysd/favicon.ico\" type=\"image/vnd.microsoft.icon\"/>\n",
      "<link rel=\"apple-touch-icon-precomposed\" href=\"https://web.archive.org/web/20150913224145im_/http://www.newyorksocialdiary.com/sites/all/themes/omega_nysd/apple-touch-icon-precomposed-114x114.png\" sizes=\"114x114\"/>\n",
      "<link rel=\"profile\" href=\"http://www.w3.org/1999/xhtml/vocab\"/>\n",
      "<link rel=\"apple-touch-icon-precomposed\" href=\"https://web.archive.org/web/20150913224145im_/http://www.newyorksocialdiary.com/sites/all/themes/omega_nysd/apple-touch-icon-precomposed.png\"/>\n",
      "<meta name=\"MobileOptimized\" content=\"width\"/>\n",
      "<meta http-equiv=\"cleartype\" content=\"on\"/>\n",
      "<link rel=\"apple-touch-icon-precomposed\" href=\"https://web.archive.org/web/20150913224145im_/http://www.newyorksocialdiary.com/sites/all/themes/omega_nysd/apple-touch-icon-precomposed-144x144.png\" sizes=\"144x144\"/>\n",
      "<meta name=\"HandheldFriendly\" content=\"true\"/>\n",
      "<link rel=\"apple-touch-icon-precomposed\" href=\"https://web.archive.org/web/20150913224145im_/http://www.newyorksocialdiary.com/sites/all/themes/omega_nysd/apple-touch-icon-precomposed-72x72.png\" sizes=\"72x72\"/>\n",
      "<meta name=\"generator\" content=\"Drupal 7 (http://drupal.org)\"/>\n",
      "<link rel=\"image_src\" href=\"https://web.archive.org/web/20150913224145im_/http://www.newyorksocialdiary.com/files/_categories/party_pics.jpg\"/>\n",
      "<meta name=\"viewport\" content=\"width=device-width\"/>\n",
      "<link rel=\"canonical\" href=\"https://web.archive.org/web/20150913224145/http://www.newyorksocialdiary.com/party-pictures\"/>\n",
      "<link rel=\"shortlink\" href=\"https://web.archive.org/web/20150913224145/http://www.newyorksocialdiary.com/taxonomy/term/59\"/>\n",
      "<meta property=\"og:site_name\" content=\"New York Social Diary\"/>\n",
      "<meta property=\"og:type\" content=\"article\"/>\n",
      "<meta property=\"og:url\" content=\"https://web.archive.org/web/20150913224145/http://www.newyorksocialdiary.com/party-pictures\"/>\n",
      "<meta property=\"og:title\" content=\"Party Pictures\"/>\n",
      "<meta property=\"og:image\" content=\"https://web.archive.org/web/20150913224145im_/http://www.newyorksocialdiary.com/files/_categories/party_pics.jpg\"/>\n",
      "<meta name=\"twitter:card\" content=\"summary\"/>\n",
      "<meta name=\"twitter:url\" content=\"https://web.archive.org/web/20150913224145im_/http://www.newyorksocialdiary.com/party-pictures\"/>\n",
      "<meta name=\"twitter:title\" content=\"Party Pictures\"/>\n",
      "<meta name=\"twitter:image:src\" content=\"http://www.newyorksocialdiary.com/files/_categories/party_pics.jpg\"/>\n",
      "<meta name=\"google-site-verification\" content=\"GkekkRSFGemxLIt7se-185MKwha5Nrdp-Wj9fJYkoZQ\"/>\n",
      "  <style>\n",
      "@import url(\"https://web.archive.org/web/20150913224145cs_/http://www.newyorksocialdiary.com/sites/all/themes/omega/omega/css/modules/system/system.base.css?ntegyz\");\n",
      "@import url(\"https://web.archive.org/web/20150913224145cs_/http://www.newyorksocialdiary.com/sites/all/themes/omega/omega/css/modules/system/system.menus.theme.css?ntegyz\");\n",
      "@import url(\"https://web.archive.org/web/20150913224145cs_/http://www.newyorksocialdiary.com/sites/all/themes/omega/omega/css/modules/system/system.messages.theme.css?ntegyz\");\n",
      "@import url(\"https://web.archive.org/web/20150913224145cs_/http://www.newyorksocialdiary.com/sites/all/themes/omega/omega/css/modules/system/system.theme.css?ntegyz\");\n",
      "@import url(\"https://web.archive.org/web/20150913224145cs_/http://www.newyorksocialdiary.com/sites/all/modules/contrib/adaptive_image/css/adaptive-image.css?ntegyz\");\n",
      "@import url(\"https://web.archive.org/web/20150913224145cs_/http://www.newyorksocialdiary.com/sites/all/modules/contrib/date/date_api/date.css?ntegyz\");\n",
      "@import url(\"https://web.archive.org/web/20150913224145cs_/http://www.newyorksocialdiary.com/sites/all/themes/omega/omega/css/modules/field/field.theme.css?ntegyz\");\n",
      "@import url(\"https://web.archive.org/web/20150913224145cs_/http://www.newyorksocialdiary.com/modules/node/node.css?ntegyz\");\n",
      "@import url(\"https://web.archive.org/web/20150913224145cs_/http://www.newyorksocialdiary.com/sites/all/themes/omega/omega/css/modules/user/user.theme.css?ntegyz\");\n",
      "@import url(\"https://web.archive.org/web/20150913224145cs_/http://www.newyorksocialdiary.com/sites/all/themes/omega/omega/css/modules/user/user.base.css?ntegyz\");\n",
      "@import url(\"https://web.archive.org/web/20150913224145cs_/http://www.newyorksocialdiary.com/sites/all/modules/contrib/views/css/views.css?ntegyz\");\n",
      "@import url(\"https://web.archive.org/web/20150913224145cs_/http://www.newyorksocialdiary.com/sites/all/modules/contrib/ckeditor/css/ckeditor.css?ntegyz\");\n",
      "</style>\n",
      "<style>\n",
      "@import url(\"https://web.archive.org/web/20150913224145cs_/http://www.newyorksocialdiary.com/sites/all/modules/contrib/ctools/css/ctools.css?ntegyz\");\n",
      "@import url(\"https://web.archive.org/web/20150913224145cs_/http://www.newyorksocialdiary.com/sites/all/modules/contrib/panels/css/panels.css?ntegyz\");\n",
      "@import url(\"https://web.archive.org/web/20150913224145cs_/http://www.newyorksocialdiary.com/sites/all/modules/contrib/panels/plugins/layouts/onecol/onecol.css?ntegyz\");\n",
      "@import url(\"https://web.archive.org/web/20150913224145cs_/http://www.newyorksocialdiary.com/sites/all/modules/contrib/nice_menus/css/nice_menus.css?ntegyz\");\n",
      "</style>\n",
      "<style>\n",
      "@import url(\"https://web.archive.org/web/20150913224145cs_/http://www.newyorksocialdiary.com/sites/all/themes/omega_nysd/css/omega-nysd.normalize.css?ntegyz\");\n",
      "@import url(\"https://web.archive.org/web/20150913224145cs_/http://www.newyorksocialdiary.com/sites/all/themes/omega_nysd/css/omega-nysd.hacks.css?ntegyz\");\n",
      "@import url(\"https://web.archive.org/web/20150913224145cs_/http://www.newyorksocialdiary.com/sites/all/themes/omega_nysd/css/omega-nysd.styles.css?ntegyz\");\n",
      "</style>\n",
      "\n",
      "<!--[if lte IE 8]>\n",
      "<style>\n",
      "@import url(\"http://www.newyorksocialdiary.com/sites/all/themes/omega_nysd/css/omega-nysd.no-query.css?ntegyz\");\n",
      "</style>\n",
      "<![endif]-->\n",
      "<style>\n",
      "@import url(\"https://web.archive.org/web/20150913224145cs_/http://www.newyorksocialdiary.com/sites/all/themes/omega_nysd/css/layouts/nysd_legacy/nysd_legacy.layout.css?ntegyz\");\n",
      "</style>\n",
      "\n",
      "<!--[if lte IE 8]>\n",
      "<style>\n",
      "@import url(\"http://www.newyorksocialdiary.com/sites/all/themes/omega_nysd/css/layouts/nysd_legacy/nysd_legacy.layout.no-query.css?ntegyz\");\n",
      "</style>\n",
      "<![endif]-->\n",
      "  <script>document.cookie = 'adaptive_image=' + Math.max(screen.width, screen.height) + '; path=/';</script>\n",
      "<script src=\"https://web.archive.org/web/20150913224145js_/http://www.newyorksocialdiary.com/misc/jquery.js?v=1.4.4\"></script>\n",
      "<script src=\"https://web.archive.org/web/20150913224145js_/http://www.newyorksocialdiary.com/misc/jquery.once.js?v=1.2\"></script>\n",
      "<script src=\"https://web.archive.org/web/20150913224145js_/http://www.newyorksocialdiary.com/misc/drupal.js?ntegyz\"></script>\n",
      "<script src=\"https://web.archive.org/web/20150913224145js_/http://www.newyorksocialdiary.com/sites/all/themes/omega/omega/js/no-js.js?ntegyz\"></script>\n",
      "<script src=\"https://web.archive.org/web/20150913224145js_/http://www.newyorksocialdiary.com/sites/all/modules/contrib/nice_menus/js/jquery.bgiframe.js?v=2.1\"></script>\n",
      "<script src=\"https://web.archive.org/web/20150913224145js_/http://www.newyorksocialdiary.com/sites/all/modules/contrib/nice_menus/js/jquery.hoverIntent.js?v=0.5\"></script>\n",
      "<script src=\"https://web.archive.org/web/20150913224145js_/http://www.newyorksocialdiary.com/sites/all/modules/contrib/nice_menus/js/superfish.js?v=1.4.8\"></script>\n",
      "<script src=\"https://web.archive.org/web/20150913224145js_/http://www.newyorksocialdiary.com/sites/all/modules/contrib/nice_menus/js/nice_menus.js?v=1.0\"></script>\n",
      "<script src=\"https://web.archive.org/web/20150913224145js_/http://www.newyorksocialdiary.com/sites/all/modules/contrib/google_analytics/googleanalytics.js?ntegyz\"></script>\n",
      "<script>(function(i,s,o,g,r,a,m){i[\"GoogleAnalyticsObject\"]=r;i[r]=i[r]||function(){(i[r].q=i[r].q||[]).push(arguments)},i[r].l=1*new Date();a=s.createElement(o),m=s.getElementsByTagName(o)[0];a.async=1;a.src=g;m.parentNode.insertBefore(a,m)})(window,document,\"script\",\"//web.archive.org/web/20150913224145/http://www.google-analytics.com/analytics.js\",\"ga\");ga(\"create\", \"UA-1286231-1\", {\"cookieDomain\":\"auto\"});ga(\"set\", \"anonymizeIp\", true);ga(\"send\", \"pageview\");</script>\n",
      "<script src=\"https://web.archive.org/web/20150913224145js_/http://s7.addthis.com/js/300/addthis_widget.js#pubid=ra-4dbf033c3fad3d6b\"></script>\n",
      "<script src=\"https://web.archive.org/web/20150913224145js_/http://www.newyorksocialdiary.com/sites/all/themes/omega_nysd/js/jquery.columnizer.js?ntegyz\"></script>\n",
      "<script src=\"https://web.archive.org/web/20150913224145js_/http://www.newyorksocialdiary.com/sites/all/themes/omega_nysd/js/omega-nysd.behaviors.js?ntegyz\"></script>\n",
      "<script>jQuery.extend(Drupal.settings, {\"basePath\":\"\\/\",\"pathPrefix\":\"\",\"googleanalytics\":{\"trackOutbound\":1,\"trackMailto\":1,\"trackDownload\":1,\"trackDownloadExtensions\":\"7z|aac|arc|arj|asf|asx|avi|bin|csv|doc(x|m)?|dot(x|m)?|exe|flv|gif|gz|gzip|hqx|jar|jpe?g|js|mp(2|3|4|e?g)|mov(ie)?|msi|msp|pdf|phps|png|ppt(x|m)?|pot(x|m)?|pps(x|m)?|ppam|sld(x|m)?|thmx|qtm?|ra(m|r)?|sea|sit|tar|tgz|torrent|txt|wav|wma|wmv|wpd|xls(x|m|b)?|xlt(x|m)|xlam|xml|z|zip\"},\"nice_menus_options\":{\"delay\":800,\"speed\":\"slow\"},\"urlIsAjaxTrusted\":{\"\\/party-pictures\":true}});</script>\n",
      "</head>\n",
      "<body class=\"html not-front not-logged-in page-taxonomy page-taxonomy-term page-taxonomy-term- page-taxonomy-term-59 section-party-pictures\">\n",
      "  <a href=\"#main-content\" class=\"element-invisible element-focusable\">Skip to main content</a>\n",
      "    <div class=\"l-page has-one-sidebar has-sidebar\">\n",
      "  <div class=\"l-page-prefix\">\n",
      "      <div class=\"l-region l-region--page-prefix\">\n",
      "    <div class=\"panel-pane pane-custom pane-1\">\n",
      "            <div class=\"email-subscribe\">\n",
      "<form action=\"https://web.archive.org/web/20150913224145/http://members.newyorksocialdiary.com/subscribe/subscribe.tml\" method=\"POST\">\n",
      " <input type=\"text\" name=\"email\" value=\"Subscribe to NYSD\" class=\"email\" onfocus=\"if(this.value == 'Subscribe to NYSD') { this.value = ''; }\" onblur=\"if(this.value == '') { this.value = 'Subscribe to NYSD'; }\"/>\n",
      " <input type=\"submit\" name=\"subscribe\" value=\"GO\" class=\"subscribe\"/>\n",
      " <input type=\"hidden\" name=\"list\" value=\"nysdsubscribers\"/>\n",
      " <input type=\"hidden\" name=\"confirm\" value=\"none\"/>\n",
      " <input type=\"hidden\" name=\"showconfirm\" value=\"F\"/>\n",
      " <input type=\"hidden\" name=\"url\" value=\"http://www.newyorksocialdiary.com\"/>\n",
      " <input type=\"hidden\" name=\"appendsubinfotourl\" value=\"T\"/>\n",
      "</form>\n",
      "</div>    </div>\n",
      "<div class=\"panel-pane pane-ad pane-12 adverserve-ad advertserve-12\">\n",
      "            <!-- BEGIN ADVERTPRO CODE BLOCK -->\n",
      "<script type=\"text/javascript\">\n",
      "document.write('<scr' + 'ipt src=\"https://web.archive.org/web/20150913224145/http://newyorksocialdiary.advertserve.com/servlet/view/banner/javascript/zone?zid=12&pid=0&random=' + Math.floor(89999999 * Math.random() + 10000000) + '&millis=' + new Date().getTime() + '&referrer=' + encodeURIComponent(document.location) + '\" type=\"text/javascript\"></scr' + 'ipt>');\n",
      "</script>\n",
      "<!-- END ADVERTPRO CODE BLOCK -->\n",
      "    </div>\n",
      "  </div>\n",
      "  </div>\n",
      "\n",
      "  <header class=\"l-header\" role=\"banner\">\n",
      "    <div class=\"l-constrained\">\n",
      "      <div class=\"l-branding site-branding\">\n",
      "                                  <div class=\"l-region l-region--branding\">\n",
      "    <div class=\"panel-pane pane-page-logo\">\n",
      "            <a href=\"/web/20150913224145/http://www.newyorksocialdiary.com/\" rel=\"home\" id=\"logo\" title=\"Home\"><img src=\"https://web.archive.org/web/20150913224145im_/http://www.newyorksocialdiary.com/sites/all/themes/omega_nysd/nysd_weblogo_final.gif\" alt=\"Home\"/></a>    </div>\n",
      "  </div>\n",
      "      </div>\n",
      "    </div>\n",
      "  </header>\n",
      "\n",
      "  <div class=\"l-main l-constrained\">\n",
      "      <div class=\"l-region l-region--navigation\">\n",
      "    <div class=\"panel-pane pane-block pane-nice-menus-1\">\n",
      "            <ul class=\"nice-menu nice-menu-down nice-menu-main-menu\" id=\"nice-menu-1\"><li class=\"menu-1227 menu-path-node-134656 first odd \"><a href=\"/web/20150913224145/http://www.newyorksocialdiary.com/nysd/socialdiarysectional\">Social Diary</a></li>\n",
      "<li class=\"menu-1215 menu-path-node-1912772  even \"><a href=\"/web/20150913224145/http://www.newyorksocialdiary.com/nysd/partypictures\" title=\"\">Party Pictures</a></li>\n",
      "<li class=\"menu-1104 menuparent  menu-path-front  odd \"><a href=\"/web/20150913224145/http://www.newyorksocialdiary.com/\" title=\"\">Diary Features</a><ul><li class=\"menu-1216 menu-path-node-1912773 first odd \"><a href=\"/web/20150913224145/http://www.newyorksocialdiary.com/nysd/guestdiary\">Guest Diaries</a></li>\n",
      "<li class=\"menu-1234 menu-path-node-1912778  even \"><a href=\"/web/20150913224145/http://www.newyorksocialdiary.com/nysd/nysdhouse\">House</a></li>\n",
      "<li class=\"menu-1219 menu-path-node-1912777  odd \"><a href=\"/web/20150913224145/http://www.newyorksocialdiary.com/nysd/across\">Across the Nation</a></li>\n",
      "<li class=\"menu-1218 menu-path-node-1912774  even \"><a href=\"/web/20150913224145/http://www.newyorksocialdiary.com/nysd/socialhistory\">Social History</a></li>\n",
      "<li class=\"menu-1223 menu-path-node-1912775  odd \"><a href=\"/web/20150913224145/http://www.newyorksocialdiary.com/nysd/dining\">Dining</a></li>\n",
      "<li class=\"menu-1235 menu-path-node-1912779  even \"><a href=\"/web/20150913224145/http://www.newyorksocialdiary.com/nysd/travel\">Travel</a></li>\n",
      "<li class=\"menu-1220 menu-path-node-1912776  odd \"><a href=\"/web/20150913224145/http://www.newyorksocialdiary.com/nysd/artset\">Art Set</a></li>\n",
      "<li class=\"menu-1063 menu-path-taxonomy-term-57  even last\"><a href=\"/web/20150913224145/http://www.newyorksocialdiary.com/nysd/thelist\">The List / Cameo</a></li>\n",
      "</ul></li>\n",
      "<li class=\"menu-1061 menu-path-calendar  even \"><a href=\"/web/20150913224145/http://www.newyorksocialdiary.com/calendar\" title=\"\">Calendar</a></li>\n",
      "<li class=\"menu-1217 menu-path-node-283  odd \"><a href=\"/web/20150913224145/http://www.newyorksocialdiary.com/nysd/archives\">Archives</a></li>\n",
      "<li class=\"menu-1359 menuparent  menu-path-front  even last\"><a href=\"/web/20150913224145/http://www.newyorksocialdiary.com/\">NYSD Beauty</a><ul><li class=\"menu-1360 menu-path-node-1913645 first odd \"><a href=\"/web/20150913224145/http://www.newyorksocialdiary.com/beauty-wellness/2015/beauty-and-wellness\" title=\"Find out about beauty and wellness in NYC.\">Beauty &amp; Wellness</a></li>\n",
      "<li class=\"menu-1361 menu-path-nysd-beauty  even last\"><a href=\"/web/20150913224145/http://www.newyorksocialdiary.com/nysd-beauty\" title=\"See the selection of wonderful beauty products.\" target=\"_blank\">Beauty Shop</a></li>\n",
      "</ul></li>\n",
      "</ul>\n",
      "    </div>\n",
      "<div class=\"panel-pane pane-block pane-search-api-page-default\">\n",
      "            <form class=\"search-api-page-search-form-default\" action=\"/web/20150913224145/http://www.newyorksocialdiary.com/party-pictures\" method=\"post\" id=\"search-api-page-search-form-default\" accept-charset=\"UTF-8\"><div><div class=\"form-item form-type-textfield form-item-keys-1\">\n",
      "  <label class=\"element-invisible\" for=\"edit-keys-1\">Type name or keyword </label>\n",
      " <input placeholder=\"Type name or keyword\" type=\"text\" id=\"edit-keys-1\" name=\"keys_1\" value=\"\" size=\"15\" maxlength=\"128\" class=\"form-text\"/>\n",
      "</div>\n",
      "<input type=\"hidden\" name=\"id\" value=\"1\"/>\n",
      "<input type=\"submit\" id=\"edit-submit-1\" name=\"op\" value=\"Search\" class=\"form-submit\"/><input type=\"hidden\" name=\"form_build_id\" value=\"form-DwyBI7mexN4MqdpRn1X5EDWnSSGStCG3gsf3m-SzKsg\"/>\n",
      "<input type=\"hidden\" name=\"form_id\" value=\"search_api_page_search_form_default\"/>\n",
      "</div></form>    </div>\n",
      "  </div>\n",
      "\n",
      "    <a id=\"main-content\"></a>\n",
      "            \n",
      "    <div class=\"l-content\" role=\"main\">\n",
      "                                          <div class=\"panel-pane pane-page-title\">\n",
      "            <h1>Party Pictures Archive</h1>\n",
      "    </div>\n",
      "<div class=\"panel-pane pane-page-content\">\n",
      "            <div class=\"panel-display panel-1col clearfix\">\n",
      "  <div class=\"panel-panel panel-col\">\n",
      "    <div><div class=\"panel-pane pane-views pane-content-by-category\">\n",
      "            <div class=\"view view-content-by-category view-id-content_by_category view-display-id-list view-dom-id-cf01417f4166ff2644abb36f123b2a5a\">\n",
      "        \n",
      "  \n",
      "  \n",
      "      <div class=\"view-content\">\n",
      "        <div class=\"views-row views-row-1 views-row-odd views-row-first\">\n",
      "      \n",
      "  <span class=\"views-field views-field-title\">        <span class=\"field-content\"><a href=\"/web/20150913224145/http://www.newyorksocialdiary.com/party-pictures/2015/kicks-offs-sing-offs-and-pro-ams\">Kicks offs, sing offs, and pro ams</a></span>  </span>  \n",
      "  <span class=\"views-field views-field-created\">        <span class=\"field-content\">Friday, September 11, 2015</span>  </span>  </div>\n",
      "  <div class=\"views-row views-row-2 views-row-even\">\n",
      "      \n",
      "  <span class=\"views-field views-field-title\">        <span class=\"field-content\"><a href=\"/web/20150913224145/http://www.newyorksocialdiary.com/party-pictures/2015/grand-finale-of-the-hampton-classic-horse-show\">Grand Finale of the Hampton Classic Horse Show</a></span>  </span>  \n",
      "  <span class=\"views-field views-field-created\">        <span class=\"field-content\">Tuesday, September 1, 2015</span>  </span>  </div>\n",
      "  <div class=\"views-row views-row-3 views-row-odd\">\n",
      "      \n",
      "  <span class=\"views-field views-field-title\">        <span class=\"field-content\"><a href=\"/web/20150913224145/http://www.newyorksocialdiary.com/party-pictures/2015/riders-spectators-horses-and-more\">Riders, Spectators, Horses, and More ...</a></span>  </span>  \n",
      "  <span class=\"views-field views-field-created\">        <span class=\"field-content\">Wednesday, August 26, 2015</span>  </span>  </div>\n",
      "  <div class=\"views-row views-row-4 views-row-even\">\n",
      "      \n",
      "  <span class=\"views-field views-field-title\">        <span class=\"field-content\"><a href=\"/web/20150913224145/http://www.newyorksocialdiary.com/party-pictures/2015/artist-and-writers-and-designers\">Artist and Writers (and Designers)</a></span>  </span>  \n",
      "  <span class=\"views-field views-field-created\">        <span class=\"field-content\">Thursday, August 20, 2015</span>  </span>  </div>\n",
      "  <div class=\"views-row views-row-5 views-row-odd\">\n",
      "      \n",
      "  <span class=\"views-field views-field-title\">        <span class=\"field-content\"><a href=\"/web/20150913224145/http://www.newyorksocialdiary.com/party-pictures/2015/garden-parties-kickoffs-and-summer-benefits\">Garden Parties Kickoffs  and Summer Benefits</a></span>  </span>  \n",
      "  <span class=\"views-field views-field-created\">        <span class=\"field-content\">Monday, August 17, 2015</span>  </span>  </div>\n",
      "  <div class=\"views-row views-row-6 views-row-even\">\n",
      "      \n",
      "  <span class=\"views-field views-field-title\">        <span class=\"field-content\"><a href=\"/web/20150913224145/http://www.newyorksocialdiary.com/party-pictures/2015/the-summer-set\">The Summer Set</a></span>  </span>  \n",
      "  <span class=\"views-field views-field-created\">        <span class=\"field-content\">Wednesday, August 12, 2015</span>  </span>  </div>\n",
      "  <div class=\"views-row views-row-7 views-row-odd\">\n",
      "      \n",
      "  <span class=\"views-field views-field-title\">        <span class=\"field-content\"><a href=\"/web/20150913224145/http://www.newyorksocialdiary.com/party-pictures/2015/midsummer-parties\">Midsummer Parties</a></span>  </span>  \n",
      "  <span class=\"views-field views-field-created\">        <span class=\"field-content\">Wednesday, August 5, 2015</span>  </span>  </div>\n",
      "  <div class=\"views-row views-row-8 views-row-even\">\n",
      "      \n",
      "  <span class=\"views-field views-field-title\">        <span class=\"field-content\"><a href=\"/web/20150913224145/http://www.newyorksocialdiary.com/party-pictures/2015/the-watermill-center-and-the-parrish\">The Watermill Center and The Parrish</a></span>  </span>  \n",
      "  <span class=\"views-field views-field-created\">        <span class=\"field-content\">Wednesday, July 29, 2015</span>  </span>  </div>\n",
      "  <div class=\"views-row views-row-9 views-row-odd\">\n",
      "      \n",
      "  <span class=\"views-field views-field-title\">        <span class=\"field-content\"><a href=\"/web/20150913224145/http://www.newyorksocialdiary.com/party-pictures/2015/unconditional-love\">Unconditional Love</a></span>  </span>  \n",
      "  <span class=\"views-field views-field-created\">        <span class=\"field-content\">Thursday, July 23, 2015</span>  </span>  </div>\n",
      "  <div class=\"views-row views-row-10 views-row-even\">\n",
      "      \n",
      "  <span class=\"views-field views-field-title\">        <span class=\"field-content\"><a href=\"/web/20150913224145/http://www.newyorksocialdiary.com/party-pictures/2015/womens-health-boys-girls-cancer-research-and-just-plain-summer-fun\">Women&#039;s Health, Boys &amp; Girls, Cancer Research, and Just Plain Summer Fun</a></span>  </span>  \n",
      "  <span class=\"views-field views-field-created\">        <span class=\"field-content\">Friday, July 17, 2015</span>  </span>  </div>\n",
      "  <div class=\"views-row views-row-11 views-row-odd\">\n",
      "      \n",
      "  <span class=\"views-field views-field-title\">        <span class=\"field-content\"><a href=\"/web/20150913224145/http://www.newyorksocialdiary.com/party-pictures/2015/art-southampton-mashomack-sofo-and-arthamptons\">Art Southampton, Mashomack, SoFo, and ArtHamptons</a></span>  </span>  \n",
      "  <span class=\"views-field views-field-created\">        <span class=\"field-content\">Monday, July 13, 2015</span>  </span>  </div>\n",
      "  <div class=\"views-row views-row-12 views-row-even\">\n",
      "      \n",
      "  <span class=\"views-field views-field-title\">        <span class=\"field-content\"><a href=\"/web/20150913224145/http://www.newyorksocialdiary.com/party-pictures/2015/this-and-that\">This and That</a></span>  </span>  \n",
      "  <span class=\"views-field views-field-created\">        <span class=\"field-content\">Friday, July 10, 2015</span>  </span>  </div>\n",
      "  <div class=\"views-row views-row-13 views-row-odd\">\n",
      "      \n",
      "  <span class=\"views-field views-field-title\">        <span class=\"field-content\"><a href=\"/web/20150913224145/http://www.newyorksocialdiary.com/party-pictures/2015/divine-intervention\">Divine Intervention</a></span>  </span>  \n",
      "  <span class=\"views-field views-field-created\">        <span class=\"field-content\">Friday, July 3, 2015</span>  </span>  </div>\n",
      "  <div class=\"views-row views-row-14 views-row-even\">\n",
      "      \n",
      "  <span class=\"views-field views-field-title\">        <span class=\"field-content\"><a href=\"/web/20150913224145/http://www.newyorksocialdiary.com/party-pictures/2015/where-the-wild-things\">Where the Wild Things ...</a></span>  </span>  \n",
      "  <span class=\"views-field views-field-created\">        <span class=\"field-content\">Monday, June 29, 2015</span>  </span>  </div>\n",
      "  <div class=\"views-row views-row-15 views-row-odd\">\n",
      "      \n",
      "  <span class=\"views-field views-field-title\">        <span class=\"field-content\"><a href=\"/web/20150913224145/http://www.newyorksocialdiary.com/party-pictures/2015/signature-events\">Signature Events</a></span>  </span>  \n",
      "  <span class=\"views-field views-field-created\">        <span class=\"field-content\">Friday, June 26, 2015</span>  </span>  </div>\n",
      "  <div class=\"views-row views-row-16 views-row-even\">\n",
      "      \n",
      "  <span class=\"views-field views-field-title\">        <span class=\"field-content\"><a href=\"/web/20150913224145/http://www.newyorksocialdiary.com/party-pictures/2015/young-new-yorkers-chashama-brain-behavior-fundahigado-america\">Young New Yorkers, chashama, Brain &amp; Behavior, FundaHigado America</a></span>  </span>  \n",
      "  <span class=\"views-field views-field-created\">        <span class=\"field-content\">Tuesday, June 23, 2015</span>  </span>  </div>\n",
      "  <div class=\"views-row views-row-17 views-row-odd\">\n",
      "      \n",
      "  <span class=\"views-field views-field-title\">        <span class=\"field-content\"><a href=\"/web/20150913224145/http://www.newyorksocialdiary.com/party-pictures/2015/play-for-pink-freeing-voices-stories-from-the-war-and-spirit-of-achievement\">Play For Pink, Freeing Voices, Stories from the War, and Spirit of Achievement</a></span>  </span>  \n",
      "  <span class=\"views-field views-field-created\">        <span class=\"field-content\">Monday, June 22, 2015</span>  </span>  </div>\n",
      "  <div class=\"views-row views-row-18 views-row-even\">\n",
      "      \n",
      "  <span class=\"views-field views-field-title\">        <span class=\"field-content\"><a href=\"/web/20150913224145/http://www.newyorksocialdiary.com/party-pictures/2015/a-taste-of-summer\">A Taste of Summer</a></span>  </span>  \n",
      "  <span class=\"views-field views-field-created\">        <span class=\"field-content\">Wednesday, June 17, 2015</span>  </span>  </div>\n",
      "  <div class=\"views-row views-row-19 views-row-odd\">\n",
      "      \n",
      "  <span class=\"views-field views-field-title\">        <span class=\"field-content\"><a href=\"/web/20150913224145/http://www.newyorksocialdiary.com/party-pictures/2015/gods-love-we-deliver-the-black-alumni-of-pratt-a-gala-salute-for-wnet-and\">God’s Love We Deliver, The Black Alumni of Pratt, A Gala Salute for WNET, and Covenant House</a></span>  </span>  \n",
      "  <span class=\"views-field views-field-created\">        <span class=\"field-content\">Monday, June 15, 2015</span>  </span>  </div>\n",
      "  <div class=\"views-row views-row-20 views-row-even\">\n",
      "      \n",
      "  <span class=\"views-field views-field-title\">        <span class=\"field-content\"><a href=\"/web/20150913224145/http://www.newyorksocialdiary.com/party-pictures/2015/education-research-and-patient-care\">Education, research and patient care</a></span>  </span>  \n",
      "  <span class=\"views-field views-field-created\">        <span class=\"field-content\">Wednesday, June 10, 2015</span>  </span>  </div>\n",
      "  <div class=\"views-row views-row-21 views-row-odd\">\n",
      "      \n",
      "  <span class=\"views-field views-field-title\">        <span class=\"field-content\"><a href=\"/web/20150913224145/http://www.newyorksocialdiary.com/party-pictures/2015/broadway-melodies-historic-hearst-castle-the-hermione-calvary-china-institute\">Broadway Melodies, Historic Hearst Castle, the Hermione, Calvary, China Institute, and the Inner-City</a></span>  </span>  \n",
      "  <span class=\"views-field views-field-created\">        <span class=\"field-content\">Monday, June 8, 2015</span>  </span>  </div>\n",
      "  <div class=\"views-row views-row-22 views-row-even\">\n",
      "      \n",
      "  <span class=\"views-field views-field-title\">        <span class=\"field-content\"><a href=\"/web/20150913224145/http://www.newyorksocialdiary.com/party-pictures/2015/philanthropic-legal-social-justice-civic-and-business-communities\">Philanthropic, legal, social justice, civic and business communities</a></span>  </span>  \n",
      "  <span class=\"views-field views-field-created\">        <span class=\"field-content\">Friday, June 5, 2015</span>  </span>  </div>\n",
      "  <div class=\"views-row views-row-23 views-row-odd\">\n",
      "      \n",
      "  <span class=\"views-field views-field-title\">        <span class=\"field-content\"><a href=\"/web/20150913224145/http://www.newyorksocialdiary.com/party-pictures/2015/milestone-celebrations\">Milestone Celebrations</a></span>  </span>  \n",
      "  <span class=\"views-field views-field-created\">        <span class=\"field-content\">Thursday, June 4, 2015</span>  </span>  </div>\n",
      "  <div class=\"views-row views-row-24 views-row-even\">\n",
      "      \n",
      "  <span class=\"views-field views-field-title\">        <span class=\"field-content\"><a href=\"/web/20150913224145/http://www.newyorksocialdiary.com/party-pictures/2015/arf-pratt-institute-caron-city-college-center-for-the-arts-and-susan-g-komen\">ARF, Pratt Institute, Caron, City College Center for the Arts, and Susan G. Komen</a></span>  </span>  \n",
      "  <span class=\"views-field views-field-created\">        <span class=\"field-content\">Monday, June 1, 2015</span>  </span>  </div>\n",
      "  <div class=\"views-row views-row-25 views-row-odd\">\n",
      "      \n",
      "  <span class=\"views-field views-field-title\">        <span class=\"field-content\"><a href=\"/web/20150913224145/http://www.newyorksocialdiary.com/party-pictures/2015/united-cerebral-palsy-the-opportunity-network-92nd-street-y-the-animal-medical\">United Cerebral Palsy, The Opportunity Network, 92nd Street Y, The Animal Medical Center, Parkinson&#039;s Disease Foundation, and Bachmann-Strauss</a></span>  </span>  \n",
      "  <span class=\"views-field views-field-created\">        <span class=\"field-content\">Wednesday, May 27, 2015</span>  </span>  </div>\n",
      "  <div class=\"views-row views-row-26 views-row-even\">\n",
      "      \n",
      "  <span class=\"views-field views-field-title\">        <span class=\"field-content\"><a href=\"/web/20150913224145/http://www.newyorksocialdiary.com/party-pictures/2015/la-belle-epoque\">La Belle Epoque</a></span>  </span>  \n",
      "  <span class=\"views-field views-field-created\">        <span class=\"field-content\">Tuesday, May 26, 2015</span>  </span>  </div>\n",
      "  <div class=\"views-row views-row-27 views-row-odd\">\n",
      "      \n",
      "  <span class=\"views-field views-field-title\">        <span class=\"field-content\"><a href=\"/web/20150913224145/http://www.newyorksocialdiary.com/party-pictures/2015/el-museo-del-barrio-fountain-house-empowers-africa-and-gray-matters\">El Museo del Barrio, Fountain House, Empowers Africa, and  Gray Matters</a></span>  </span>  \n",
      "  <span class=\"views-field views-field-created\">        <span class=\"field-content\">Friday, May 22, 2015</span>  </span>  </div>\n",
      "  <div class=\"views-row views-row-28 views-row-even\">\n",
      "      \n",
      "  <span class=\"views-field views-field-title\">        <span class=\"field-content\"><a href=\"/web/20150913224145/http://www.newyorksocialdiary.com/party-pictures/2015/spring-ahead\">Spring Ahead</a></span>  </span>  \n",
      "  <span class=\"views-field views-field-created\">        <span class=\"field-content\">Tuesday, May 19, 2015</span>  </span>  </div>\n",
      "  <div class=\"views-row views-row-29 views-row-odd\">\n",
      "      \n",
      "  <span class=\"views-field views-field-title\">        <span class=\"field-content\"><a href=\"/web/20150913224145/http://www.newyorksocialdiary.com/party-pictures/2015/rockefeller-university-bal-des-berceaux-and-icaa\">Rockefeller University, Bal des Berceaux, and ICAA</a></span>  </span>  \n",
      "  <span class=\"views-field views-field-created\">        <span class=\"field-content\">Monday, May 18, 2015</span>  </span>  </div>\n",
      "  <div class=\"views-row views-row-30 views-row-even\">\n",
      "      \n",
      "  <span class=\"views-field views-field-title\">        <span class=\"field-content\"><a href=\"/web/20150913224145/http://www.newyorksocialdiary.com/party-pictures/2015/nyc-ballet-masterpiece-london-pratt-institute-and-project-sunshine\">NYC Ballet, Masterpiece London, Pratt Institute, and Project Sunshine</a></span>  </span>  \n",
      "  <span class=\"views-field views-field-created\">        <span class=\"field-content\">Friday, May 15, 2015</span>  </span>  </div>\n",
      "  <div class=\"views-row views-row-31 views-row-odd\">\n",
      "      \n",
      "  <span class=\"views-field views-field-title\">        <span class=\"field-content\"><a href=\"/web/20150913224145/http://www.newyorksocialdiary.com/party-pictures/2015/in-the-presence-of\">In the presence of ...</a></span>  </span>  \n",
      "  <span class=\"views-field views-field-created\">        <span class=\"field-content\">Tuesday, May 12, 2015</span>  </span>  </div>\n",
      "  <div class=\"views-row views-row-32 views-row-even\">\n",
      "      \n",
      "  <span class=\"views-field views-field-title\">        <span class=\"field-content\"><a href=\"/web/20150913224145/http://www.newyorksocialdiary.com/party-pictures/2015/over-the-top-extravaganzas\">Over-the-top extravaganzas</a></span>  </span>  \n",
      "  <span class=\"views-field views-field-created\">        <span class=\"field-content\">Friday, May 8, 2015</span>  </span>  </div>\n",
      "  <div class=\"views-row views-row-33 views-row-odd\">\n",
      "      \n",
      "  <span class=\"views-field views-field-title\">        <span class=\"field-content\"><a href=\"/web/20150913224145/http://www.newyorksocialdiary.com/party-pictures/2015/dpcs-take-at-the-33rd-annual-frederick-law-olmsted-awards-luncheon\">DPC&#039;S take at the 33rd annual Frederick Law Olmsted Awards Luncheon</a></span>  </span>  \n",
      "  <span class=\"views-field views-field-created\">        <span class=\"field-content\">Thursday, May 7, 2015</span>  </span>  </div>\n",
      "  <div class=\"views-row views-row-34 views-row-even\">\n",
      "      \n",
      "  <span class=\"views-field views-field-title\">        <span class=\"field-content\"><a href=\"/web/20150913224145/http://www.newyorksocialdiary.com/party-pictures/2015/hellos-and-goodbyes\">Hellos and Goodbyes</a></span>  </span>  \n",
      "  <span class=\"views-field views-field-created\">        <span class=\"field-content\">Tuesday, May 5, 2015</span>  </span>  </div>\n",
      "  <div class=\"views-row views-row-35 views-row-odd\">\n",
      "      \n",
      "  <span class=\"views-field views-field-title\">        <span class=\"field-content\"><a href=\"/web/20150913224145/http://www.newyorksocialdiary.com/party-pictures/2015/women-of-distinction\">Women of Distinction</a></span>  </span>  \n",
      "  <span class=\"views-field views-field-created\">        <span class=\"field-content\">Thursday, April 30, 2015</span>  </span>  </div>\n",
      "  <div class=\"views-row views-row-36 views-row-even\">\n",
      "      \n",
      "  <span class=\"views-field views-field-title\">        <span class=\"field-content\"><a href=\"/web/20150913224145/http://www.newyorksocialdiary.com/party-pictures/2015/nights-for-changing-lives\">Nights for Changing Lives</a></span>  </span>  \n",
      "  <span class=\"views-field views-field-created\">        <span class=\"field-content\">Monday, April 27, 2015</span>  </span>  </div>\n",
      "  <div class=\"views-row views-row-37 views-row-odd\">\n",
      "      \n",
      "  <span class=\"views-field views-field-title\">        <span class=\"field-content\"><a href=\"/web/20150913224145/http://www.newyorksocialdiary.com/party-pictures/2015/il-piacere-dellamore\">Il Piacere dell’Amore</a></span>  </span>  \n",
      "  <span class=\"views-field views-field-created\">        <span class=\"field-content\">Thursday, April 23, 2015</span>  </span>  </div>\n",
      "  <div class=\"views-row views-row-38 views-row-even\">\n",
      "      \n",
      "  <span class=\"views-field views-field-title\">        <span class=\"field-content\"><a href=\"/web/20150913224145/http://www.newyorksocialdiary.com/party-pictures/2015/masquerade-retrograde\">Masquerade Retrograde</a></span>  </span>  \n",
      "  <span class=\"views-field views-field-created\">        <span class=\"field-content\">Wednesday, April 22, 2015</span>  </span>  </div>\n",
      "  <div class=\"views-row views-row-39 views-row-odd\">\n",
      "      \n",
      "  <span class=\"views-field views-field-title\">        <span class=\"field-content\"><a href=\"/web/20150913224145/http://www.newyorksocialdiary.com/party-pictures/2015/artists-and-writers-and-designers\">Artists and Writers and Designers</a></span>  </span>  \n",
      "  <span class=\"views-field views-field-created\">        <span class=\"field-content\">Tuesday, April 21, 2015</span>  </span>  </div>\n",
      "  <div class=\"views-row views-row-40 views-row-even\">\n",
      "      \n",
      "  <span class=\"views-field views-field-title\">        <span class=\"field-content\"><a href=\"/web/20150913224145/http://www.newyorksocialdiary.com/party-pictures/2015/in-kind\">In Kind</a></span>  </span>  \n",
      "  <span class=\"views-field views-field-created\">        <span class=\"field-content\">Friday, April 17, 2015</span>  </span>  </div>\n",
      "  <div class=\"views-row views-row-41 views-row-odd\">\n",
      "      \n",
      "  <span class=\"views-field views-field-title\">        <span class=\"field-content\"><a href=\"/web/20150913224145/http://www.newyorksocialdiary.com/party-pictures/2015/aspca-playground-partners-east-side-house-settlement-and-castle-connolly\">ASPCA, Playground Partners, East Side House Settlement, and Castle Connolly</a></span>  </span>  \n",
      "  <span class=\"views-field views-field-created\">        <span class=\"field-content\">Monday, April 13, 2015</span>  </span>  </div>\n",
      "  <div class=\"views-row views-row-42 views-row-even\">\n",
      "      \n",
      "  <span class=\"views-field views-field-title\">        <span class=\"field-content\"><a href=\"/web/20150913224145/http://www.newyorksocialdiary.com/party-pictures/2015/el-museo-pdf-tusk-and-nyc-mission-society\">El Museo, PDF, Tusk, and NYC Mission Society</a></span>  </span>  \n",
      "  <span class=\"views-field views-field-created\">        <span class=\"field-content\">Thursday, April 9, 2015</span>  </span>  </div>\n",
      "  <div class=\"views-row views-row-43 views-row-odd\">\n",
      "      \n",
      "  <span class=\"views-field views-field-title\">        <span class=\"field-content\"><a href=\"/web/20150913224145/http://www.newyorksocialdiary.com/party-pictures/2015/drifting-in-daylight\">Drifting in Daylight</a></span>  </span>  \n",
      "  <span class=\"views-field views-field-created\">        <span class=\"field-content\">Monday, April 6, 2015</span>  </span>  </div>\n",
      "  <div class=\"views-row views-row-44 views-row-even\">\n",
      "      \n",
      "  <span class=\"views-field views-field-title\">        <span class=\"field-content\"><a href=\"/web/20150913224145/http://www.newyorksocialdiary.com/party-pictures/2015/the-art-of-fashion\">The Art of Fashion</a></span>  </span>  \n",
      "  <span class=\"views-field views-field-created\">        <span class=\"field-content\">Friday, April 3, 2015</span>  </span>  </div>\n",
      "  <div class=\"views-row views-row-45 views-row-odd\">\n",
      "      \n",
      "  <span class=\"views-field views-field-title\">        <span class=\"field-content\"><a href=\"/web/20150913224145/http://www.newyorksocialdiary.com/party-pictures/2015/glitz-glamour\">Glitz &amp; Glamour</a></span>  </span>  \n",
      "  <span class=\"views-field views-field-created\">        <span class=\"field-content\">Monday, March 30, 2015</span>  </span>  </div>\n",
      "  <div class=\"views-row views-row-46 views-row-even\">\n",
      "      \n",
      "  <span class=\"views-field views-field-title\">        <span class=\"field-content\"><a href=\"/web/20150913224145/http://www.newyorksocialdiary.com/party-pictures/2015/madoo-in-manhattan-pmp-in-palm-beach\">Madoo in Manhattan, PMP in Palm Beach</a></span>  </span>  \n",
      "  <span class=\"views-field views-field-created\">        <span class=\"field-content\">Wednesday, March 25, 2015</span>  </span>  </div>\n",
      "  <div class=\"views-row views-row-47 views-row-odd\">\n",
      "      \n",
      "  <span class=\"views-field views-field-title\">        <span class=\"field-content\"><a href=\"/web/20150913224145/http://www.newyorksocialdiary.com/party-pictures/2015/love-heals\">Love Heals</a></span>  </span>  \n",
      "  <span class=\"views-field views-field-created\">        <span class=\"field-content\">Friday, March 20, 2015</span>  </span>  </div>\n",
      "  <div class=\"views-row views-row-48 views-row-even\">\n",
      "      \n",
      "  <span class=\"views-field views-field-title\">        <span class=\"field-content\"><a href=\"/web/20150913224145/http://www.newyorksocialdiary.com/party-pictures/2015/citymeals-on-wheels-mount-sinai-hospital-un-women-for-peace-and-the-red-cross\">Citymeals-on-Wheels, Mount Sinai Hospital, UN Women for Peace, and the Red Cross Ball</a></span>  </span>  \n",
      "  <span class=\"views-field views-field-created\">        <span class=\"field-content\">Wednesday, March 18, 2015</span>  </span>  </div>\n",
      "  <div class=\"views-row views-row-49 views-row-odd\">\n",
      "      \n",
      "  <span class=\"views-field views-field-title\">        <span class=\"field-content\"><a href=\"/web/20150913224145/http://www.newyorksocialdiary.com/party-pictures/2015/ripa-eight-over-eighty-trees-new-york-and-fabulous-at-any-age\">RIPA, Eight Over Eighty, Trees New York, and Fabulous at Any Age</a></span>  </span>  \n",
      "  <span class=\"views-field views-field-created\">        <span class=\"field-content\">Tuesday, March 17, 2015</span>  </span>  </div>\n",
      "  <div class=\"views-row views-row-50 views-row-even views-row-last\">\n",
      "      \n",
      "  <span class=\"views-field views-field-title\">        <span class=\"field-content\"><a href=\"/web/20150913224145/http://www.newyorksocialdiary.com/party-pictures/2015/bunny-hop-the-boys-club-old-bags-and-more\">Bunny Hop, The Boys&#039; Club, Old Bags, and more ...</a></span>  </span>  \n",
      "  <span class=\"views-field views-field-created\">        <span class=\"field-content\">Friday, March 13, 2015</span>  </span>  </div>\n",
      "    </div>\n",
      "  \n",
      "      <h2 class=\"element-invisible\">Pages</h2><ul class=\"pager\"><li class=\"pager__item pager__item--current\">1</li>\n",
      "<li class=\"pager__item\"><a title=\"Go to page 2\" href=\"/web/20150913224145/http://www.newyorksocialdiary.com/party-pictures?page=1\">2</a></li>\n",
      "<li class=\"pager__item\"><a title=\"Go to page 3\" href=\"/web/20150913224145/http://www.newyorksocialdiary.com/party-pictures?page=2\">3</a></li>\n",
      "<li class=\"pager__item\"><a title=\"Go to page 4\" href=\"/web/20150913224145/http://www.newyorksocialdiary.com/party-pictures?page=3\">4</a></li>\n",
      "<li class=\"pager__item\"><a title=\"Go to page 5\" href=\"/web/20150913224145/http://www.newyorksocialdiary.com/party-pictures?page=4\">5</a></li>\n",
      "<li class=\"pager__item\"><a title=\"Go to page 6\" href=\"/web/20150913224145/http://www.newyorksocialdiary.com/party-pictures?page=5\">6</a></li>\n",
      "<li class=\"pager__item\"><a title=\"Go to page 7\" href=\"/web/20150913224145/http://www.newyorksocialdiary.com/party-pictures?page=6\">7</a></li>\n",
      "<li class=\"pager__item\"><a title=\"Go to page 8\" href=\"/web/20150913224145/http://www.newyorksocialdiary.com/party-pictures?page=7\">8</a></li>\n",
      "<li class=\"pager__item\"><a title=\"Go to page 9\" href=\"/web/20150913224145/http://www.newyorksocialdiary.com/party-pictures?page=8\">9</a></li>\n",
      "<li class=\"pager__item pager__item--ellipsis\">…</li>\n",
      "<li class=\"pager__item pager__item--next\"><a title=\"Go to next page\" href=\"/web/20150913224145/http://www.newyorksocialdiary.com/party-pictures?page=1\">next ›</a></li>\n",
      "<li class=\"pager__item pager__item--last\"><a title=\"Go to last page\" href=\"/web/20150913224145/http://www.newyorksocialdiary.com/party-pictures?page=25\">last »</a></li>\n",
      "</ul>  \n",
      "  \n",
      "  \n",
      "  \n",
      "  \n",
      "</div>    </div>\n",
      "</div>\n",
      "  </div>\n",
      "</div>\n",
      "    </div>\n",
      "                </div>\n",
      "\n",
      "      <div class=\"l-region l-region--sidebar\">\n",
      "    <div class=\"panel-pane pane-ad pane-2 adverserve-ad advertserve-2\">\n",
      "            <!-- BEGIN ADVERTPRO CODE BLOCK -->\n",
      "<script type=\"text/javascript\">\n",
      "document.write('<scr' + 'ipt src=\"https://web.archive.org/web/20150913224145/http://newyorksocialdiary.advertserve.com/servlet/view/banner/javascript/zone?zid=2&pid=0&random=' + Math.floor(89999999 * Math.random() + 10000000) + '&millis=' + new Date().getTime() + '&referrer=' + encodeURIComponent(document.location) + '\" type=\"text/javascript\"></scr' + 'ipt>');\n",
      "</script>\n",
      "<!-- END ADVERTPRO CODE BLOCK -->\n",
      "    </div>\n",
      "<div class=\"panel-pane pane-ad pane-2 adverserve-ad advertserve-2\">\n",
      "            <!-- BEGIN ADVERTPRO CODE BLOCK -->\n",
      "<script type=\"text/javascript\">\n",
      "document.write('<scr' + 'ipt src=\"https://web.archive.org/web/20150913224145/http://newyorksocialdiary.advertserve.com/servlet/view/banner/javascript/zone?zid=2&pid=0&random=' + Math.floor(89999999 * Math.random() + 10000000) + '&millis=' + new Date().getTime() + '&referrer=' + encodeURIComponent(document.location) + '\" type=\"text/javascript\"></scr' + 'ipt>');\n",
      "</script>\n",
      "<!-- END ADVERTPRO CODE BLOCK -->\n",
      "    </div>\n",
      "<div class=\"panel-pane pane-ad pane-2 adverserve-ad advertserve-2\">\n",
      "            <!-- BEGIN ADVERTPRO CODE BLOCK -->\n",
      "<script type=\"text/javascript\">\n",
      "document.write('<scr' + 'ipt src=\"https://web.archive.org/web/20150913224145/http://newyorksocialdiary.advertserve.com/servlet/view/banner/javascript/zone?zid=2&pid=0&random=' + Math.floor(89999999 * Math.random() + 10000000) + '&millis=' + new Date().getTime() + '&referrer=' + encodeURIComponent(document.location) + '\" type=\"text/javascript\"></scr' + 'ipt>');\n",
      "</script>\n",
      "<!-- END ADVERTPRO CODE BLOCK -->\n",
      "    </div>\n",
      "<div class=\"panel-pane pane-ad pane-2 adverserve-ad advertserve-2\">\n",
      "            <!-- BEGIN ADVERTPRO CODE BLOCK -->\n",
      "<script type=\"text/javascript\">\n",
      "document.write('<scr' + 'ipt src=\"https://web.archive.org/web/20150913224145/http://newyorksocialdiary.advertserve.com/servlet/view/banner/javascript/zone?zid=2&pid=0&random=' + Math.floor(89999999 * Math.random() + 10000000) + '&millis=' + new Date().getTime() + '&referrer=' + encodeURIComponent(document.location) + '\" type=\"text/javascript\"></scr' + 'ipt>');\n",
      "</script>\n",
      "<!-- END ADVERTPRO CODE BLOCK -->\n",
      "    </div>\n",
      "<div class=\"panel-pane pane-ad pane-2 adverserve-ad advertserve-2\">\n",
      "            <!-- BEGIN ADVERTPRO CODE BLOCK -->\n",
      "<script type=\"text/javascript\">\n",
      "document.write('<scr' + 'ipt src=\"https://web.archive.org/web/20150913224145/http://newyorksocialdiary.advertserve.com/servlet/view/banner/javascript/zone?zid=2&pid=0&random=' + Math.floor(89999999 * Math.random() + 10000000) + '&millis=' + new Date().getTime() + '&referrer=' + encodeURIComponent(document.location) + '\" type=\"text/javascript\"></scr' + 'ipt>');\n",
      "</script>\n",
      "<!-- END ADVERTPRO CODE BLOCK -->\n",
      "    </div>\n",
      "<div class=\"panel-pane pane-ad pane-4 adverserve-ad advertserve-4\">\n",
      "            <!-- BEGIN ADVERTPRO CODE BLOCK -->\n",
      "<script type=\"text/javascript\">\n",
      "document.write('<scr' + 'ipt src=\"https://web.archive.org/web/20150913224145/http://newyorksocialdiary.advertserve.com/servlet/view/banner/javascript/zone?zid=4&pid=0&random=' + Math.floor(89999999 * Math.random() + 10000000) + '&millis=' + new Date().getTime() + '&referrer=' + encodeURIComponent(document.location) + '\" type=\"text/javascript\"></scr' + 'ipt>');\n",
      "</script>\n",
      "<!-- END ADVERTPRO CODE BLOCK -->\n",
      "    </div>\n",
      "<div class=\"panel-pane pane-ad pane-4 adverserve-ad advertserve-4\">\n",
      "            <!-- BEGIN ADVERTPRO CODE BLOCK -->\n",
      "<script type=\"text/javascript\">\n",
      "document.write('<scr' + 'ipt src=\"https://web.archive.org/web/20150913224145/http://newyorksocialdiary.advertserve.com/servlet/view/banner/javascript/zone?zid=4&pid=0&random=' + Math.floor(89999999 * Math.random() + 10000000) + '&millis=' + new Date().getTime() + '&referrer=' + encodeURIComponent(document.location) + '\" type=\"text/javascript\"></scr' + 'ipt>');\n",
      "</script>\n",
      "<!-- END ADVERTPRO CODE BLOCK -->\n",
      "    </div>\n",
      "<div class=\"panel-pane pane-ad pane-4 adverserve-ad advertserve-4\">\n",
      "            <!-- BEGIN ADVERTPRO CODE BLOCK -->\n",
      "<script type=\"text/javascript\">\n",
      "document.write('<scr' + 'ipt src=\"https://web.archive.org/web/20150913224145/http://newyorksocialdiary.advertserve.com/servlet/view/banner/javascript/zone?zid=4&pid=0&random=' + Math.floor(89999999 * Math.random() + 10000000) + '&millis=' + new Date().getTime() + '&referrer=' + encodeURIComponent(document.location) + '\" type=\"text/javascript\"></scr' + 'ipt>');\n",
      "</script>\n",
      "<!-- END ADVERTPRO CODE BLOCK -->\n",
      "    </div>\n",
      "  </div>\n",
      "\n",
      "    <div class=\"l-footer-wrapper\" role=\"contentinfo\">\n",
      "        <div class=\"l-region l-region--footer\">\n",
      "    <div class=\"panel-pane pane-ad pane-14 adverserve-ad advertserve-14\">\n",
      "            <!-- BEGIN ADVERTPRO CODE BLOCK -->\n",
      "<script type=\"text/javascript\">\n",
      "document.write('<scr' + 'ipt src=\"https://web.archive.org/web/20150913224145/http://newyorksocialdiary.advertserve.com/servlet/view/banner/javascript/zone?zid=14&pid=0&random=' + Math.floor(89999999 * Math.random() + 10000000) + '&millis=' + new Date().getTime() + '&referrer=' + encodeURIComponent(document.location) + '\" type=\"text/javascript\"></scr' + 'ipt>');\n",
      "</script>\n",
      "<!-- END ADVERTPRO CODE BLOCK -->\n",
      "    </div>\n",
      "<div class=\"panel-pane pane-ad pane-14 adverserve-ad advertserve-14\">\n",
      "            <!-- BEGIN ADVERTPRO CODE BLOCK -->\n",
      "<script type=\"text/javascript\">\n",
      "document.write('<scr' + 'ipt src=\"https://web.archive.org/web/20150913224145/http://newyorksocialdiary.advertserve.com/servlet/view/banner/javascript/zone?zid=14&pid=0&random=' + Math.floor(89999999 * Math.random() + 10000000) + '&millis=' + new Date().getTime() + '&referrer=' + encodeURIComponent(document.location) + '\" type=\"text/javascript\"></scr' + 'ipt>');\n",
      "</script>\n",
      "<!-- END ADVERTPRO CODE BLOCK -->\n",
      "    </div>\n",
      "<div class=\"panel-pane pane-ad pane-14 adverserve-ad advertserve-14\">\n",
      "            <!-- BEGIN ADVERTPRO CODE BLOCK -->\n",
      "<script type=\"text/javascript\">\n",
      "document.write('<scr' + 'ipt src=\"https://web.archive.org/web/20150913224145/http://newyorksocialdiary.advertserve.com/servlet/view/banner/javascript/zone?zid=14&pid=0&random=' + Math.floor(89999999 * Math.random() + 10000000) + '&millis=' + new Date().getTime() + '&referrer=' + encodeURIComponent(document.location) + '\" type=\"text/javascript\"></scr' + 'ipt>');\n",
      "</script>\n",
      "<!-- END ADVERTPRO CODE BLOCK -->\n",
      "    </div>\n",
      "<div class=\"panel-pane pane-ad pane-14 adverserve-ad advertserve-14\">\n",
      "            <!-- BEGIN ADVERTPRO CODE BLOCK -->\n",
      "<script type=\"text/javascript\">\n",
      "document.write('<scr' + 'ipt src=\"https://web.archive.org/web/20150913224145/http://newyorksocialdiary.advertserve.com/servlet/view/banner/javascript/zone?zid=14&pid=0&random=' + Math.floor(89999999 * Math.random() + 10000000) + '&millis=' + new Date().getTime() + '&referrer=' + encodeURIComponent(document.location) + '\" type=\"text/javascript\"></scr' + 'ipt>');\n",
      "</script>\n",
      "<!-- END ADVERTPRO CODE BLOCK -->\n",
      "    </div>\n",
      "<div class=\"panel-pane pane-ad pane-14 adverserve-ad advertserve-14\">\n",
      "            <!-- BEGIN ADVERTPRO CODE BLOCK -->\n",
      "<script type=\"text/javascript\">\n",
      "document.write('<scr' + 'ipt src=\"https://web.archive.org/web/20150913224145/http://newyorksocialdiary.advertserve.com/servlet/view/banner/javascript/zone?zid=14&pid=0&random=' + Math.floor(89999999 * Math.random() + 10000000) + '&millis=' + new Date().getTime() + '&referrer=' + encodeURIComponent(document.location) + '\" type=\"text/javascript\"></scr' + 'ipt>');\n",
      "</script>\n",
      "<!-- END ADVERTPRO CODE BLOCK -->\n",
      "    </div>\n",
      "  </div>\n",
      "    </div>\n",
      "  </div>\n",
      "\n",
      "  <div class=\"l-page-suffix\">\n",
      "      <div class=\"l-region l-region--page-suffix\">\n",
      "    <div class=\"panel-pane pane-block pane-menu-menu-footer\">\n",
      "            <ul class=\"menu\"><li class=\"first leaf\"><a href=\"/web/20150913224145/http://www.newyorksocialdiary.com/newsletter\" title=\"Subscribe or unsubscribe to the newsletter.\">Subscribe/Unsubscribe</a></li>\n",
      "<li class=\"last leaf\"><a href=\"https://web.archive.org/web/20150913224145/http://newyorksocialdiary.com/legacy/layouts/nysdratecard2013_norates.html\" title=\"\">Advertise</a></li>\n",
      "</ul>    </div>\n",
      "<div class=\"panel-pane pane-custom pane-2\">\n",
      "            (c) 2014 David Patrick Columbia &amp; Jeffrey Hirsch/NewYorkSocialDiary.com    </div>\n",
      "  </div>\n",
      "  </div>\n",
      "</div>\n",
      "  \n",
      "<!-- Start of StatCounter Code for Default Guide -->\n",
      "<script type=\"text/javascript\">\n",
      "var sc_project = 383967;\n",
      "var sc_invisible = 1;\n",
      "var sc_security = '';\n",
      "var sc_https = 1;\n",
      "var sc_remove_link = 1;\n",
      "var scJsHost = ((\"https:\" == document.location.protocol) ? \"https://web.archive.org/web/20150913224145/https://secure.\" : \"https://web.archive.org/web/20150913224145/http://www.\");\n",
      "document.write(\"<sc\" + \"ript type='text/javascript' src='\" + scJsHost + \"statcounter.com/counter/counter.js'></\" + \"script>\");\n",
      "</script>\n",
      "<noscript><div class=\"statcounter\"><img class=\"statcounter\" src=\"https://web.archive.org/web/20150913224145im_/http://c.statcounter.com/383967/0//1/\" alt=\"free web stats\"></div></noscript>\n",
      "<!-- End of StatCounter Code for Default Guide -->\n",
      "\n",
      "</body>\n",
      "</html>\n",
      "<!--\n",
      "     FILE ARCHIVED ON 22:41:45 Sep 13, 2015 AND RETRIEVED FROM THE\n",
      "     INTERNET ARCHIVE ON 02:01:53 Sep 11, 2024.\n",
      "     JAVASCRIPT APPENDED BY WAYBACK MACHINE, COPYRIGHT INTERNET ARCHIVE.\n",
      "\n",
      "     ALL OTHER CONTENT MAY ALSO BE PROTECTED BY COPYRIGHT (17 U.S.C.\n",
      "     SECTION 108(a)(3)).\n",
      "-->\n",
      "<!--\n",
      "playback timings (ms):\n",
      "  captures_list: 0.466\n",
      "  exclusion.robots: 0.025\n",
      "  exclusion.robots.policy: 0.015\n",
      "  esindex: 0.008\n",
      "  cdx.remote: 7.215\n",
      "  LoadShardBlock: 545.478 (3)\n",
      "  PetaboxLoader3.datanode: 524.224 (4)\n",
      "  load_resource: 100.348\n",
      "  PetaboxLoader3.resolve: 73.448\n",
      "-->\n"
     ]
    }
   ],
   "source": [
    "page = requests.get(\"https://web.archive.org/web/20150913224145/http://www.newyorksocialdiary.com/party-pictures\")\n",
    "page.status_code\n",
    "print(page.text)"
   ]
  },
  {
   "cell_type": "markdown",
   "metadata": {
    "slideshow": null
   },
   "source": [
    "Now, we process the text of the page with BeautifulSoup."
   ]
  },
  {
   "cell_type": "code",
   "execution_count": 4,
   "metadata": {
    "slideshow": null,
    "ExecuteTime": {
     "end_time": "2024-09-11T01:43:47.720865500Z",
     "start_time": "2024-09-11T01:43:47.708212300Z"
    }
   },
   "outputs": [],
   "source": [
    "soup = BeautifulSoup(page.text, \"lxml\")"
   ]
  },
  {
   "cell_type": "markdown",
   "metadata": {
    "slideshow": null
   },
   "source": [
    "This page has links to 50 party pages. Look at the structure of the page and determine how to isolate those links.  Your browser's developer tools (usually `Cmd`-`Option`-`I` on Mac, `Ctrl`-`Shift`-`I` on others) offer helpful tools to explore the structure of the HTML page.\n",
    "\n",
    "Once you have found a pattern, use BeautifulSoup's [select](https://www.crummy.com/software/BeautifulSoup/bs4/doc/#css-selectors) or [find_all](https://www.crummy.com/software/BeautifulSoup/bs4/doc/#find) methods to get those elements."
   ]
  },
  {
   "cell_type": "code",
   "execution_count": 109,
   "metadata": {
    "slideshow": null,
    "ExecuteTime": {
     "end_time": "2024-09-11T04:20:23.958161Z",
     "start_time": "2024-09-11T04:20:22.173147700Z"
    }
   },
   "outputs": [
    {
     "name": "stdout",
     "output_type": "stream",
     "text": [
      "{'/web/20150913224145/http://www.newyorksocialdiary.com/party-pictures/2015/kicks-offs-sing-offs-and-pro-ams': 'Friday, September 11, 2015', '/web/20150913224145/http://www.newyorksocialdiary.com/party-pictures/2015/grand-finale-of-the-hampton-classic-horse-show': 'Tuesday, September 1, 2015', '/web/20150913224145/http://www.newyorksocialdiary.com/party-pictures/2015/riders-spectators-horses-and-more': 'Wednesday, August 26, 2015', '/web/20150913224145/http://www.newyorksocialdiary.com/party-pictures/2015/artist-and-writers-and-designers': 'Thursday, August 20, 2015', '/web/20150913224145/http://www.newyorksocialdiary.com/party-pictures/2015/garden-parties-kickoffs-and-summer-benefits': 'Monday, August 17, 2015', '/web/20150913224145/http://www.newyorksocialdiary.com/party-pictures/2015/the-summer-set': 'Wednesday, August 12, 2015', '/web/20150913224145/http://www.newyorksocialdiary.com/party-pictures/2015/midsummer-parties': 'Wednesday, August 5, 2015', '/web/20150913224145/http://www.newyorksocialdiary.com/party-pictures/2015/the-watermill-center-and-the-parrish': 'Wednesday, July 29, 2015', '/web/20150913224145/http://www.newyorksocialdiary.com/party-pictures/2015/unconditional-love': 'Thursday, July 23, 2015', '/web/20150913224145/http://www.newyorksocialdiary.com/party-pictures/2015/womens-health-boys-girls-cancer-research-and-just-plain-summer-fun': 'Friday, July 17, 2015', '/web/20150913224145/http://www.newyorksocialdiary.com/party-pictures/2015/art-southampton-mashomack-sofo-and-arthamptons': 'Monday, July 13, 2015', '/web/20150913224145/http://www.newyorksocialdiary.com/party-pictures/2015/this-and-that': 'Friday, July 10, 2015', '/web/20150913224145/http://www.newyorksocialdiary.com/party-pictures/2015/divine-intervention': 'Friday, July 3, 2015', '/web/20150913224145/http://www.newyorksocialdiary.com/party-pictures/2015/where-the-wild-things': 'Monday, June 29, 2015', '/web/20150913224145/http://www.newyorksocialdiary.com/party-pictures/2015/signature-events': 'Friday, June 26, 2015', '/web/20150913224145/http://www.newyorksocialdiary.com/party-pictures/2015/young-new-yorkers-chashama-brain-behavior-fundahigado-america': 'Tuesday, June 23, 2015', '/web/20150913224145/http://www.newyorksocialdiary.com/party-pictures/2015/play-for-pink-freeing-voices-stories-from-the-war-and-spirit-of-achievement': 'Monday, June 22, 2015', '/web/20150913224145/http://www.newyorksocialdiary.com/party-pictures/2015/a-taste-of-summer': 'Wednesday, June 17, 2015', '/web/20150913224145/http://www.newyorksocialdiary.com/party-pictures/2015/gods-love-we-deliver-the-black-alumni-of-pratt-a-gala-salute-for-wnet-and': 'Monday, June 15, 2015', '/web/20150913224145/http://www.newyorksocialdiary.com/party-pictures/2015/education-research-and-patient-care': 'Wednesday, June 10, 2015', '/web/20150913224145/http://www.newyorksocialdiary.com/party-pictures/2015/broadway-melodies-historic-hearst-castle-the-hermione-calvary-china-institute': 'Monday, June 8, 2015', '/web/20150913224145/http://www.newyorksocialdiary.com/party-pictures/2015/philanthropic-legal-social-justice-civic-and-business-communities': 'Friday, June 5, 2015', '/web/20150913224145/http://www.newyorksocialdiary.com/party-pictures/2015/milestone-celebrations': 'Thursday, June 4, 2015', '/web/20150913224145/http://www.newyorksocialdiary.com/party-pictures/2015/arf-pratt-institute-caron-city-college-center-for-the-arts-and-susan-g-komen': 'Monday, June 1, 2015', '/web/20150913224145/http://www.newyorksocialdiary.com/party-pictures/2015/united-cerebral-palsy-the-opportunity-network-92nd-street-y-the-animal-medical': 'Wednesday, May 27, 2015', '/web/20150913224145/http://www.newyorksocialdiary.com/party-pictures/2015/la-belle-epoque': 'Tuesday, May 26, 2015', '/web/20150913224145/http://www.newyorksocialdiary.com/party-pictures/2015/el-museo-del-barrio-fountain-house-empowers-africa-and-gray-matters': 'Friday, May 22, 2015', '/web/20150913224145/http://www.newyorksocialdiary.com/party-pictures/2015/spring-ahead': 'Tuesday, May 19, 2015', '/web/20150913224145/http://www.newyorksocialdiary.com/party-pictures/2015/rockefeller-university-bal-des-berceaux-and-icaa': 'Monday, May 18, 2015', '/web/20150913224145/http://www.newyorksocialdiary.com/party-pictures/2015/nyc-ballet-masterpiece-london-pratt-institute-and-project-sunshine': 'Friday, May 15, 2015', '/web/20150913224145/http://www.newyorksocialdiary.com/party-pictures/2015/in-the-presence-of': 'Tuesday, May 12, 2015', '/web/20150913224145/http://www.newyorksocialdiary.com/party-pictures/2015/over-the-top-extravaganzas': 'Friday, May 8, 2015', '/web/20150913224145/http://www.newyorksocialdiary.com/party-pictures/2015/dpcs-take-at-the-33rd-annual-frederick-law-olmsted-awards-luncheon': 'Thursday, May 7, 2015', '/web/20150913224145/http://www.newyorksocialdiary.com/party-pictures/2015/hellos-and-goodbyes': 'Tuesday, May 5, 2015', '/web/20150913224145/http://www.newyorksocialdiary.com/party-pictures/2015/women-of-distinction': 'Thursday, April 30, 2015', '/web/20150913224145/http://www.newyorksocialdiary.com/party-pictures/2015/nights-for-changing-lives': 'Monday, April 27, 2015', '/web/20150913224145/http://www.newyorksocialdiary.com/party-pictures/2015/il-piacere-dellamore': 'Thursday, April 23, 2015', '/web/20150913224145/http://www.newyorksocialdiary.com/party-pictures/2015/masquerade-retrograde': 'Wednesday, April 22, 2015', '/web/20150913224145/http://www.newyorksocialdiary.com/party-pictures/2015/artists-and-writers-and-designers': 'Tuesday, April 21, 2015', '/web/20150913224145/http://www.newyorksocialdiary.com/party-pictures/2015/in-kind': 'Friday, April 17, 2015', '/web/20150913224145/http://www.newyorksocialdiary.com/party-pictures/2015/aspca-playground-partners-east-side-house-settlement-and-castle-connolly': 'Monday, April 13, 2015', '/web/20150913224145/http://www.newyorksocialdiary.com/party-pictures/2015/el-museo-pdf-tusk-and-nyc-mission-society': 'Thursday, April 9, 2015', '/web/20150913224145/http://www.newyorksocialdiary.com/party-pictures/2015/drifting-in-daylight': 'Monday, April 6, 2015', '/web/20150913224145/http://www.newyorksocialdiary.com/party-pictures/2015/the-art-of-fashion': 'Friday, April 3, 2015', '/web/20150913224145/http://www.newyorksocialdiary.com/party-pictures/2015/glitz-glamour': 'Monday, March 30, 2015', '/web/20150913224145/http://www.newyorksocialdiary.com/party-pictures/2015/madoo-in-manhattan-pmp-in-palm-beach': 'Wednesday, March 25, 2015', '/web/20150913224145/http://www.newyorksocialdiary.com/party-pictures/2015/love-heals': 'Friday, March 20, 2015', '/web/20150913224145/http://www.newyorksocialdiary.com/party-pictures/2015/citymeals-on-wheels-mount-sinai-hospital-un-women-for-peace-and-the-red-cross': 'Wednesday, March 18, 2015', '/web/20150913224145/http://www.newyorksocialdiary.com/party-pictures/2015/ripa-eight-over-eighty-trees-new-york-and-fabulous-at-any-age': 'Tuesday, March 17, 2015', '/web/20150913224145/http://www.newyorksocialdiary.com/party-pictures/2015/bunny-hop-the-boys-club-old-bags-and-more': 'Friday, March 13, 2015'}\n"
     ]
    }
   ],
   "source": [
    "#links = [link.get('href') for link in soup.find_all('a') if link.parent.name == 'span' ] \n",
    "\n",
    "#print(type(soup.find_all('span', {\"class\": \"views-field views-field-title\"})))\n",
    "\n",
    "data = dict(zip(soup.find_all('span', {\"class\": \"views-field views-field-title\"}), soup.find_all('span', {\"class\": \"views-field views-field-created\"}) ))\n",
    "\n",
    "data = dict((  link.find_all('a')[0].get('href') ,date.find_all('span', {'class': 'field-content'})[0].getText()) for (link, date) in data.items())\n",
    "\n",
    "print(data)\n",
    "#print(links)\n",
    "#print(\"Total Links: \", len(links))"
   ]
  },
  {
   "cell_type": "markdown",
   "metadata": {
    "slideshow": null
   },
   "source": [
    "There should be 50 per page."
   ]
  },
  {
   "cell_type": "code",
   "execution_count": 82,
   "metadata": {
    "slideshow": null,
    "ExecuteTime": {
     "end_time": "2024-09-11T03:45:59.321796400Z",
     "start_time": "2024-09-11T03:45:59.279731800Z"
    }
   },
   "outputs": [
    {
     "data": {
      "text/plain": "True"
     },
     "execution_count": 82,
     "metadata": {},
     "output_type": "execute_result"
    }
   ],
   "source": [
    "len(links) == 50"
   ]
  },
  {
   "cell_type": "markdown",
   "metadata": {
    "slideshow": null
   },
   "source": [
    "Let's take a look at that first link.  Figure out how to extract the URL of the link, as well as the date.  You probably want to use `datetime.strptime`.  See the [format codes for dates](https://docs.python.org/3/library/datetime.html#strftime-and-strptime-behavior) for reference."
   ]
  },
  {
   "cell_type": "code",
   "execution_count": null,
   "metadata": {},
   "outputs": [],
   "source": [
    "\"/web/20150913224145/http://www.newyorksocialdiary.com/party-pictures/2015/grand-finale-of-the-hampton-classic-horse-show\">Grand Finale of the Hampton Classic Horse Show</a>"
   ]
  },
  {
   "cell_type": "code",
   "execution_count": 22,
   "metadata": {
    "slideshow": null,
    "ExecuteTime": {
     "end_time": "2024-09-11T02:04:25.080034100Z",
     "start_time": "2024-09-11T02:04:25.064373400Z"
    }
   },
   "outputs": [
    {
     "name": "stdout",
     "output_type": "stream",
     "text": [
      "/web/20150913224145/http://www.newyorksocialdiary.com/party-pictures/2015/kicks-offs-sing-offs-and-pro-ams\n"
     ]
    }
   ],
   "source": [
    "link = links[0]\n",
    "\n",
    "print(link)\n",
    "# Check that the title and date match what you see visually."
   ]
  },
  {
   "cell_type": "markdown",
   "metadata": {
    "slideshow": null
   },
   "source": [
    "For purposes of code reuse, let's put that logic into a function.  It should take the link element and return the URL and date parsed from it."
   ]
  },
  {
   "cell_type": "code",
   "execution_count": 59,
   "metadata": {
    "slideshow": null,
    "ExecuteTime": {
     "end_time": "2024-09-11T03:18:31.783517200Z",
     "start_time": "2024-09-11T03:18:31.772535200Z"
    }
   },
   "outputs": [
    {
     "name": "stdout",
     "output_type": "stream",
     "text": [
      "/web/20150913224145/http://www.newyorksocialdiary.com/party-pictures/2015/kicks-offs-sing-offs-and-pro-ams\n",
      "('http://www.newyorksocialdiary.com/party-pictures/2015/kicks-offs-sing-offs-and-pro-ams', '20150913224145')\n"
     ]
    }
   ],
   "source": [
    "import re\n",
    "\n",
    "def get_link_date(el):\n",
    "    regex = re.compile(r'/[0-9]+/')\n",
    "    date = re.compile(r'/([0-9]+)/').findall(el)[0]\n",
    "    url = re.compile(r'(http.*$)').findall(el)[0]\n",
    "    return url, date\n",
    "\n",
    "print(link)\n",
    "print(get_link_date(link))"
   ]
  },
  {
   "cell_type": "markdown",
   "metadata": {
    "slideshow": null
   },
   "source": [
    "You may want to check that it works as you expected.\n",
    "\n",
    "Once that's working, let's write another function to parse all of the links on a page.  Thinking ahead, we can make it take a Requests [Response](https://requests.readthedocs.io/en/master/api/#requests.Response) object and do the BeautifulSoup parsing within it."
   ]
  },
  {
   "cell_type": "code",
   "execution_count": 31,
   "metadata": {
    "slideshow": null,
    "ExecuteTime": {
     "end_time": "2024-09-11T02:32:57.577843500Z",
     "start_time": "2024-09-11T02:32:57.532226500Z"
    }
   },
   "outputs": [],
   "source": [
    "def get_links(response):\n",
    "    return ... # A list of URL, date pairs"
   ]
  },
  {
   "cell_type": "markdown",
   "metadata": {
    "slideshow": null
   },
   "source": [
    "If we run this on the previous response, we should get 50 pairs."
   ]
  },
  {
   "cell_type": "code",
   "execution_count": null,
   "metadata": {
    "slideshow": null
   },
   "outputs": [],
   "source": [
    "# These should be the same links from earlier\n",
    "len(get_links(page)) == 50"
   ]
  },
  {
   "cell_type": "markdown",
   "metadata": {
    "slideshow": null
   },
   "source": [
    "But we only want parties with dates on or before the first of December, 2014.  Let's write a function to filter our list of dates to those at or before a cutoff.  Using a keyword argument, we can put in a default cutoff, but allow us to test with others."
   ]
  },
  {
   "cell_type": "code",
   "execution_count": null,
   "metadata": {
    "slideshow": null
   },
   "outputs": [],
   "source": [
    "def filter_by_date(links, cutoff=datetime(2014, 12, 1)):\n",
    "    # Return only the elements with date <= cutoff"
   ]
  },
  {
   "cell_type": "markdown",
   "metadata": {
    "slideshow": null
   },
   "source": [
    "With the default cutoff, there should be no valid parties on the first page.  Adjust the cutoff date to check that it is actually working."
   ]
  },
  {
   "cell_type": "code",
   "execution_count": null,
   "metadata": {
    "slideshow": null
   },
   "outputs": [],
   "source": [
    "# Double check the dates are being extracted correctly\n",
    "len(filter_by_date(get_links(page))) == 0"
   ]
  },
  {
   "cell_type": "markdown",
   "metadata": {
    "slideshow": null
   },
   "source": [
    "Now we should be ready to get all of the party URLs.  Click through a few of the index pages to determine how the URL changes.  Figure out a strategy to visit all of them.\n",
    "\n",
    "HTTP requests are generally IO-bound.  This means that most of the time is spent waiting for the remote server to respond.  If you use `requests` directly, you can only wait on one response at a time.  [requests-futures](https://github.com/ross/requests-futures) lets you wait for multiple requests at a time.  You may wish to use this to speed up the downloading process."
   ]
  },
  {
   "cell_type": "code",
   "execution_count": null,
   "metadata": {
    "slideshow": null
   },
   "outputs": [],
   "source": [
    "from requests_futures.sessions import FuturesSession\n",
    "\n",
    "link_list = []\n",
    "# You can use link_list.extend(others) to add the elements of others\n",
    "# to link_list."
   ]
  },
  {
   "cell_type": "markdown",
   "metadata": {
    "slideshow": null
   },
   "source": [
    "In the end, you should have 1193 parties."
   ]
  },
  {
   "cell_type": "code",
   "execution_count": null,
   "metadata": {
    "slideshow": null
   },
   "outputs": [],
   "source": [
    "# Make sure you are using the same /web/stringofdigits/... for each page\n",
    "# This is to prevent the archive from accessing later copies of the same page\n",
    "# If you are off by a just a few, that can be the archive misbehaving\n",
    "len(link_list) == 1193"
   ]
  },
  {
   "cell_type": "markdown",
   "metadata": {
    "slideshow": null
   },
   "source": [
    "In case we need to restart the notebook, we should save this information to a file.  There are many ways you could do this; here's one using `dill`."
   ]
  },
  {
   "cell_type": "code",
   "execution_count": null,
   "metadata": {
    "slideshow": null
   },
   "outputs": [],
   "source": [
    "dill.dump(link_list, open('nysd-links.pkd', 'wb'))"
   ]
  },
  {
   "cell_type": "markdown",
   "metadata": {
    "slideshow": null
   },
   "source": [
    "To restore the list, we can just load it from the file.  When the notebook is restarted, you can skip the code above and just run this command."
   ]
  },
  {
   "cell_type": "code",
   "execution_count": null,
   "metadata": {
    "slideshow": null
   },
   "outputs": [],
   "source": [
    "link_list = dill.load(open('nysd-links.pkd', 'rb'))"
   ]
  },
  {
   "cell_type": "markdown",
   "metadata": {
    "slideshow": null
   },
   "source": [
    "### Question 1: In which month did most of the parties occur? (10 p)\n",
    "### Question 2: What is the overall trend of parties from 2007 to 2014? (10 p)\n",
    "Use visualizations to answer the two questions above. Ensure that you interpret your plots thoroughly."
   ]
  },
  {
   "cell_type": "markdown",
   "metadata": {
    "slideshow": null
   },
   "source": [
    "## Phase Two\n"
   ]
  },
  {
   "cell_type": "markdown",
   "metadata": {
    "slideshow": null
   },
   "source": [
    "In this phase, we concentrate on getting the names out of captions for a given page.  We'll start with [the benefit cocktails and dinner](https://web.archive.org/web/20150913224145/http://www.newyorksocialdiary.com/party-pictures/2015/celebrating-the-neighborhood) for [Lenox Hill Neighborhood House](http://www.lenoxhill.org/), a neighborhood organization for the East Side.\n",
    "\n",
    "Take a look at that page.  Note that some of the text on the page is captions, but others are descriptions of the event.  Determine how to select only the captions."
   ]
  },
  {
   "cell_type": "code",
   "execution_count": null,
   "metadata": {
    "slideshow": null
   },
   "outputs": [],
   "source": [
    "captions = ..."
   ]
  },
  {
   "cell_type": "markdown",
   "metadata": {
    "slideshow": null
   },
   "source": [
    "By our count, there are about 110.  But if you're off by a couple, you're probably okay."
   ]
  },
  {
   "cell_type": "code",
   "execution_count": null,
   "metadata": {
    "slideshow": null
   },
   "outputs": [],
   "source": [
    "# These are for the specific party referenced in the text\n",
    "abs(len(captions) - 110) < 5"
   ]
  },
  {
   "cell_type": "markdown",
   "metadata": {
    "slideshow": null
   },
   "source": [
    "Let's encapsulate this in a function.  As with the links pages, we want to avoid downloading a given page the next time we need to run the notebook.  While we could save the files by hand, as we did before, a checkpoint library like [ediblepickle](https://pypi.python.org/pypi/ediblepickle/1.1.3) can handle this for you.  (Note, though, that you may not want to enable this until you are sure that your function is working.)\n",
    "\n",
    "You should also keep in mind that HTTP requests fail occasionally, for transient reasons.  You should plan how to detect and react to these failures.   The [retrying module](https://pypi.python.org/pypi/retrying) is one way to deal with this."
   ]
  },
  {
   "cell_type": "code",
   "execution_count": null,
   "metadata": {
    "slideshow": null
   },
   "outputs": [],
   "source": [
    "def get_captions(path):\n",
    "    ..."
   ]
  },
  {
   "cell_type": "markdown",
   "metadata": {
    "slideshow": null
   },
   "source": [
    "This should get the same captions as before."
   ]
  },
  {
   "cell_type": "code",
   "execution_count": null,
   "metadata": {
    "slideshow": null
   },
   "outputs": [],
   "source": [
    "# This cell is expecting get_captions to return a list of the captions themselves\n",
    "# Other routes to a solution might need to adjust this cell a bit\n",
    "captions == get_captions(\"/web/20150913224145/http://www.newyorksocialdiary.com/party-pictures/2015/celebrating-the-neighborhood\")"
   ]
  },
  {
   "cell_type": "markdown",
   "metadata": {
    "slideshow": null
   },
   "source": [
    "Now that we have some sample captions, let's start parsing names out of those captions.  There are many ways of going about this, and we leave the details up to you.  Some issues to consider:\n",
    "\n",
    "  1. Some captions are not useful: they contain long narrative texts that explain the event.  Try to find some heuristic rules to separate captions that are a list of names from those that are not.  A few heuristics include:\n",
    "    - look for sentences (which have verbs) and as opposed to lists of nouns. For example, [`nltk` does part of speech tagging](http://www.nltk.org/book/ch05.html) but it is a little slow. There may also be heuristics that accomplish the same thing.\n",
    "    - Similarly, spaCy's [entity recognition](https://spacy.io/docs/usage/entity-recognition) could be useful here.\n",
    "    - Look for commonly repeated threads (e.g. you might end up picking up the photo credits or people such as \"a friend\").\n",
    "    - Long captions are often not lists of people.  The cutoff is subjective, but for grading purposes, *set that cutoff at 250 characters*.\n",
    "  2. You will want to separate the captions based on various forms of punctuation.  Try using `re.split`, which is more sophisticated than `string.split`. **Note**: Use regex exclusively for name parsing.\n",
    "  3. This site is pretty formal and likes to say things like \"Mayor Michael Bloomberg\" after his election but \"Michael Bloomberg\" before his election.  Can you find other titles that are being used?  They should probably be filtered out because they ultimately refer to the same person: \"Michael Bloomberg.\"\n",
    "  4. There is a special case you might find where couples are written as eg. \"John and Mary Smith\". You will need to write some extra logic to make sure this properly parses to two names: \"John Smith\" and \"Mary Smith\".\n",
    "  5. When parsing names from captions, it can help to look at your output frequently and address the problems that you see coming up, iterating until you have a list that looks reasonable. Because we can only asymptotically approach perfect identification and entity matching, we have to stop somewhere.\n",
    "  \n",
    "**Questions worth considering:**\n",
    "  1. Who is Patrick McMullan and should he be included in the results? How would you address this?\n",
    "  2. What else could you do to improve the quality of the graph's information?"
   ]
  },
  {
   "cell_type": "code",
   "execution_count": null,
   "metadata": {
    "slideshow": null
   },
   "outputs": [],
   "source": []
  },
  {
   "cell_type": "markdown",
   "metadata": {
    "slideshow": null
   },
   "source": [
    "Once you feel that your algorithm is working well on these captions, parse all of the captions and extract all the names mentioned.  "
   ]
  },
  {
   "cell_type": "markdown",
   "metadata": {
    "slideshow": null
   },
   "source": [
    "Now, run this sort of test on a few other pages.  You will probably find that other pages have a slightly different HTML structure, as well as new captions that trip up your caption parser.  But don't worry if the parser isn't perfect -- just try to get the easy cases."
   ]
  },
  {
   "cell_type": "markdown",
   "metadata": {
    "slideshow": null
   },
   "source": [
    "Once you are satisfied that your caption scraper and parser are working, run this for all of the pages.  If you haven't implemented some caching of the captions, you probably want to do this first."
   ]
  },
  {
   "cell_type": "code",
   "execution_count": null,
   "metadata": {
    "slideshow": null
   },
   "outputs": [],
   "source": [
    "# Scraping all of the pages could take 10 minutes to an hour"
   ]
  },
  {
   "cell_type": "markdown",
   "metadata": {},
   "source": [
    "## Phase 3: Graph Analysis"
   ]
  },
  {
   "cell_type": "markdown",
   "metadata": {
    "slideshow": null
   },
   "source": [
    "For the remaining analysis, we think of the problem in terms of a\n",
    "[network](http://en.wikipedia.org/wiki/Computer_network) or a\n",
    "[graph](https://en.wikipedia.org/wiki/Graph_%28discrete_mathematics%29).  Any time a pair of people appear in a photo together, that is considered a link.  It is an example of  an **undirected weighted graph**. We recommend using python's [`networkx`](https://networkx.github.io/) library."
   ]
  },
  {
   "cell_type": "code",
   "execution_count": null,
   "metadata": {
    "slideshow": null
   },
   "outputs": [],
   "source": [
    "import itertools  # itertools.combinations may be useful\n",
    "import networkx as nx"
   ]
  },
  {
   "cell_type": "markdown",
   "metadata": {
    "slideshow": null
   },
   "source": [
    "All in all, you should end up with over 100,000 captions and more than 110,000 names, connected in about 200,000 pairs."
   ]
  },
  {
   "cell_type": "markdown",
   "metadata": {
    "slideshow": null
   },
   "source": [
    "## Question 3: Graph EDA (20 p)\n"
   ]
  },
  {
   "cell_type": "markdown",
   "metadata": {},
   "source": [
    "- Use parsed names to create the undirected weighted network and visualize it (5 p)\n",
    "- Report the number of nodes and edges (5 p)\n",
    "- What is the diameter of this graph? (5 p)\n",
    "- What is the average clustering coeff of the graph? How you interpret this number? (5 p)"
   ]
  },
  {
   "cell_type": "markdown",
   "metadata": {},
   "source": []
  },
  {
   "cell_type": "markdown",
   "metadata": {},
   "source": [
    "## Question 4: Graph properties (20 p)"
   ]
  },
  {
   "cell_type": "markdown",
   "metadata": {},
   "source": [
    "What real-world graph properties does this graph exhibit? Please show your work and interpret your answer. Does the result make sense given the nature of the graph?"
   ]
  },
  {
   "cell_type": "markdown",
   "metadata": {},
   "source": [
    "## Question 4: Who are the most photogenic persons? (10 p)"
   ]
  },
  {
   "cell_type": "markdown",
   "metadata": {
    "slideshow": null
   },
   "source": [
    "The simplest question to ask is \"who is the most popular\"?  The easiest way to answer this question is to look at how many connections everyone has.  Return the top 100 people and their degree.  Remember that if an edge of the graph has weight 2, it counts for 2 in the degree.\n",
    "\n",
    "**Checkpoint:** Some aggregate stats on the solution\n",
    "\n",
    "    \"count\": 100.0\n",
    "    \"mean\": 189.92\n",
    "    \"std\": 87.8053034454\n",
    "    \"min\": 124.0\n",
    "    \"25%\": 138.0\n",
    "    \"50%\": 157.0\n",
    "    \"75%\": 195.0\n",
    "    \"max\": 666.0"
   ]
  },
  {
   "cell_type": "code",
   "execution_count": null,
   "metadata": {
    "slideshow": null
   },
   "outputs": [],
   "source": [
    "degree = \n"
   ]
  },
  {
   "cell_type": "markdown",
   "metadata": {
    "slideshow": null
   },
   "source": [
    "## Question 5: Centrality analysis (20 p)\n"
   ]
  },
  {
   "cell_type": "markdown",
   "metadata": {
    "slideshow": null
   },
   "source": [
    "Use eccentricity centrality, closeness centrality, betweenness centrality, prestige, and PageRank to identify the top 10 individuals with the highest centrality for each measure. How do you interpret the results?\n",
    "\n",
    "Use 0.85 as the damping parameter for page rank, so that there is a 15% chance of jumping to another vertex at random.\n",
    "\n",
    "**Checkpoint:** Some aggregate stats on the solution for pagerank\n",
    "\n",
    "    \"count\": 100.0\n",
    "    \"mean\": 0.0001841088\n",
    "    \"std\": 0.0000758068\n",
    "    \"min\": 0.0001238355\n",
    "    \"25%\": 0.0001415028\n",
    "    \"50%\": 0.0001616183\n",
    "    \"75%\": 0.0001972663\n",
    "    \"max\": 0.0006085816"
   ]
  },
  {
   "cell_type": "markdown",
   "metadata": {
    "slideshow": null
   },
   "source": [
    "## Question 6: best_friends (10 p)\n"
   ]
  },
  {
   "cell_type": "markdown",
   "metadata": {
    "slideshow": null
   },
   "source": [
    "Another interesting question is who tend to co-occur with each other.  Give us the 100 edges with the highest weights.\n",
    "\n",
    "Google these people and see what their connection is.  Can we use this to detect instances of infidelity?\n",
    "\n",
    "**Checkpoint:** Some aggregate stats on the solution\n",
    "\n",
    "    \"count\": 100.0\n",
    "    \"mean\": 25.84\n",
    "    \"std\": 16.0395470855\n",
    "    \"min\": 14.0\n",
    "    \"25%\": 16.0\n",
    "    \"50%\": 19.0\n",
    "    \"75%\": 29.25\n",
    "    \"max\": 109.0"
   ]
  },
  {
   "cell_type": "code",
   "execution_count": 32,
   "metadata": {
    "slideshow": null
   },
   "outputs": [],
   "source": [
    "#temple form for the answer\n",
    "best_friends = [(('Michael Kennedy', 'Eleanora Kennedy'), 41)] * 100\n"
   ]
  },
  {
   "cell_type": "code",
   "execution_count": null,
   "metadata": {},
   "outputs": [],
   "source": []
  }
 ],
 "metadata": {
  "kernelspec": {
   "display_name": "Python 3 (ipykernel)",
   "language": "python",
   "name": "python3"
  },
  "language_info": {
   "codemirror_mode": {
    "name": "ipython",
    "version": 3
   },
   "file_extension": ".py",
   "mimetype": "text/x-python",
   "name": "python",
   "nbconvert_exporter": "python",
   "pygments_lexer": "ipython3",
   "version": "3.12.3"
  },
  "nbclean": true
 },
 "nbformat": 4,
 "nbformat_minor": 4
}
